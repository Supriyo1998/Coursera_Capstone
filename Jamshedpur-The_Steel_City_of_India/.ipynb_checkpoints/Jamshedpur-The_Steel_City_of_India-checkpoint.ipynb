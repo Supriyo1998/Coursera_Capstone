{
 "cells": [
  {
   "cell_type": "markdown",
   "metadata": {},
   "source": [
    "#  Exploring venues in Jamshedpur - Steel City of India"
   ]
  },
  {
   "cell_type": "markdown",
   "metadata": {},
   "source": [
    "### Introduction\n",
    "**Jamshedpur** is one of the first industrial planned cities of India and most populous urban agglomeration in the Indian state of Jharkhand. It was founded by Jamsetji Tata (Founder of Tata Groups) and was also named after him. Jamshedpur is also known as Tatanagar. <br>\n",
    "\n",
    "Jamshedpur is ranked as 2nd in India in terms of ‘Quality of Life’. The city is located in nature's den in Chota Nagpur plateau, surrounded by the picturesque Dalma Hills and bordered by the rivers Subarnarekha and Kharkai."
   ]
  },
  {
   "cell_type": "markdown",
   "metadata": {},
   "source": [
    "### Data Collection from APIs\n",
    "To begin with, we will take a look at Jamshedpur on the Map using the folium library.<br>\n",
    "\n",
    "We will also fetch the data from two different APIs.<br>\n",
    "\n",
    "* Foursquare API: We will use the Foursquare API to fetch venues in Chandigarh starting from the middle upto 44 Kilometers in each direction. <br>\n",
    "* Zomato API: The Zomato API provides information about various venues including the complete address, user ratings, price for two people, price range and a lot more."
   ]
  },
  {
   "cell_type": "markdown",
   "metadata": {},
   "source": [
    "<hr/>"
   ]
  },
  {
   "cell_type": "markdown",
   "metadata": {},
   "source": [
    "### Import libraries"
   ]
  },
  {
   "cell_type": "code",
   "execution_count": 1,
   "metadata": {},
   "outputs": [
    {
     "name": "stdout",
     "output_type": "stream",
     "text": [
      "Libraries imported.\n"
     ]
    }
   ],
   "source": [
    "import numpy as np # library to handle data in a vectorized manner\n",
    "\n",
    "import pandas as pd # library for data analsysis\n",
    "pd.set_option(\"display.max_columns\", None)\n",
    "pd.set_option(\"display.max_rows\", None)\n",
    "\n",
    "import json # library to handle JSON files\n",
    "\n",
    "from geopy.geocoders import Nominatim # convert an address into latitude and longitude values\n",
    "import geocoder\n",
    "\n",
    "import requests # library to handle requests\n",
    "from bs4 import BeautifulSoup # library to parse HTML and XML documents\n",
    "\n",
    "from pandas.io.json import json_normalize # tranform JSON file into a pandas dataframe\n",
    "\n",
    "# Matplotlib and associated plotting modules\n",
    "import matplotlib.pyplot as plt\n",
    "import matplotlib.cm as cm\n",
    "import matplotlib.colors as colors\n",
    "\n",
    "# import k-means from clustering stage\n",
    "from sklearn.cluster import KMeans\n",
    "\n",
    "import folium # map rendering library\n",
    "\n",
    "print(\"Libraries imported.\")"
   ]
  },
  {
   "cell_type": "markdown",
   "metadata": {},
   "source": [
    "### Scrap data from Wikipedia page into a DataFrame "
   ]
  },
  {
   "cell_type": "code",
   "execution_count": 2,
   "metadata": {},
   "outputs": [],
   "source": [
    "#loading the list of cities of Jharkhand from the wikipedia page\n",
    "data = requests.get(\"https://en.wikipedia.org/wiki/List_of_cities_in_Jharkhand_by_population\").text"
   ]
  },
  {
   "cell_type": "code",
   "execution_count": 3,
   "metadata": {},
   "outputs": [],
   "source": [
    "# parse data from the html into a beautifulsoup object\n",
    "soup = BeautifulSoup(data, 'html.parser')"
   ]
  },
  {
   "cell_type": "code",
   "execution_count": 4,
   "metadata": {},
   "outputs": [],
   "source": [
    "rank=[]\n",
    "name=[]\n",
    "district=[]"
   ]
  },
  {
   "cell_type": "code",
   "execution_count": 5,
   "metadata": {},
   "outputs": [],
   "source": [
    "#using BeautifulSoup\n",
    "#append the data to the respective lists\n",
    "for row in soup.find('table').findAll('tr'):\n",
    "    cells=row.findAll('td')\n",
    "    if len(cells)>1:\n",
    "        rank.append(cells[0].text)\n",
    "        name.append(cells[1].text.rstrip('\\n'))\n",
    "        district.append(cells[2].text.rstrip('\\n'))\n",
    "rank=rank[:12]\n",
    "rank=[i.strip() for i in rank]\n",
    "name=name[:12]\n",
    "district=district[:12]"
   ]
  },
  {
   "cell_type": "code",
   "execution_count": 6,
   "metadata": {},
   "outputs": [],
   "source": [
    "#creating a new data set from the three lists\n",
    "jharkhand_df = pd.DataFrame({\"Rank\": rank,\"Name of City\": name,\"District\": district})\n",
    "jharkhand_df.reset_index(drop=True, inplace=True)"
   ]
  },
  {
   "cell_type": "code",
   "execution_count": 7,
   "metadata": {},
   "outputs": [
    {
     "data": {
      "text/html": [
       "<div>\n",
       "<style scoped>\n",
       "    .dataframe tbody tr th:only-of-type {\n",
       "        vertical-align: middle;\n",
       "    }\n",
       "\n",
       "    .dataframe tbody tr th {\n",
       "        vertical-align: top;\n",
       "    }\n",
       "\n",
       "    .dataframe thead th {\n",
       "        text-align: right;\n",
       "    }\n",
       "</style>\n",
       "<table border=\"1\" class=\"dataframe\">\n",
       "  <thead>\n",
       "    <tr style=\"text-align: right;\">\n",
       "      <th></th>\n",
       "      <th>Rank</th>\n",
       "      <th>Name of City</th>\n",
       "      <th>District</th>\n",
       "    </tr>\n",
       "  </thead>\n",
       "  <tbody>\n",
       "    <tr>\n",
       "      <th>0</th>\n",
       "      <td>1</td>\n",
       "      <td>Jamshedpur</td>\n",
       "      <td>East Singhbhum Seraikela Kharsawan</td>\n",
       "    </tr>\n",
       "    <tr>\n",
       "      <th>1</th>\n",
       "      <td>2</td>\n",
       "      <td>Dhanbad</td>\n",
       "      <td>Dhanbad</td>\n",
       "    </tr>\n",
       "    <tr>\n",
       "      <th>2</th>\n",
       "      <td>3</td>\n",
       "      <td>Ranchi</td>\n",
       "      <td>Ranchi</td>\n",
       "    </tr>\n",
       "    <tr>\n",
       "      <th>3</th>\n",
       "      <td>4</td>\n",
       "      <td>Bokaro Steel City</td>\n",
       "      <td>Bokaro</td>\n",
       "    </tr>\n",
       "    <tr>\n",
       "      <th>4</th>\n",
       "      <td>5</td>\n",
       "      <td>Deoghar</td>\n",
       "      <td>Deoghar</td>\n",
       "    </tr>\n",
       "  </tbody>\n",
       "</table>\n",
       "</div>"
      ],
      "text/plain": [
       "  Rank       Name of City                            District\n",
       "0    1         Jamshedpur  East Singhbhum Seraikela Kharsawan\n",
       "1    2            Dhanbad                             Dhanbad\n",
       "2    3             Ranchi                              Ranchi\n",
       "3    4  Bokaro Steel City                              Bokaro\n",
       "4    5            Deoghar                             Deoghar"
      ]
     },
     "execution_count": 7,
     "metadata": {},
     "output_type": "execute_result"
    }
   ],
   "source": [
    "jharkhand_df.head()"
   ]
  },
  {
   "cell_type": "code",
   "execution_count": 8,
   "metadata": {},
   "outputs": [
    {
     "data": {
      "text/plain": [
       "(12, 3)"
      ]
     },
     "execution_count": 8,
     "metadata": {},
     "output_type": "execute_result"
    }
   ],
   "source": [
    "jharkhand_df.shape"
   ]
  },
  {
   "cell_type": "markdown",
   "metadata": {},
   "source": [
    "We can see that the cities of Jharkhand are ranked in order. <br>\n",
    "**Jamshedpur** is ranked number 1 city in Jharkhand"
   ]
  },
  {
   "cell_type": "markdown",
   "metadata": {},
   "source": [
    "***"
   ]
  },
  {
   "cell_type": "markdown",
   "metadata": {},
   "source": [
    "### Get the geographical coordinates"
   ]
  },
  {
   "cell_type": "code",
   "execution_count": 9,
   "metadata": {},
   "outputs": [],
   "source": [
    "# define a function to get coordinates\n",
    "def get_latlng(neighborhood):\n",
    "    # initialize your variable to None\n",
    "    lat_lng_coords = None\n",
    "    # loop until you get the coordinates\n",
    "    while(lat_lng_coords is None):\n",
    "        g = geocoder.arcgis('{}, Jharkhand, India'.format(neighborhood))\n",
    "        lat_lng_coords = g.latlng\n",
    "    return lat_lng_coords"
   ]
  },
  {
   "cell_type": "code",
   "execution_count": 10,
   "metadata": {},
   "outputs": [],
   "source": [
    "# call the function to get the coordinates, store in a new list using list comprehension\n",
    "coords = [ get_latlng(neighborhood) for neighborhood in jharkhand_df[\"Name of City\"].tolist() ]"
   ]
  },
  {
   "cell_type": "code",
   "execution_count": 11,
   "metadata": {},
   "outputs": [
    {
     "name": "stdout",
     "output_type": "stream",
     "text": [
      "[[22.78150000000005, 86.21215000000007], [23.79595000000006, 86.43058000000008], [23.350600000000043, 85.31378000000007], [23.65903000000003, 86.13716000000005], [24.489070000000027, 86.69950000000006], [22.672370000000058, 85.62049000000007], [23.765100000000075, 85.99122000000006], [23.998790000000042, 85.36729000000008], [24.187110000000075, 86.30464000000006], [24.563550000000077, 87.25026000000008], [24.03779000000003, 84.06237000000004], [23.74186000000003, 86.79578000000004]]\n"
     ]
    }
   ],
   "source": [
    "print(coords)"
   ]
  },
  {
   "cell_type": "code",
   "execution_count": 12,
   "metadata": {},
   "outputs": [],
   "source": [
    "# create temporary dataframe to populate the coordinates into Latitude and Longitude\n",
    "df_coords = pd.DataFrame(coords, columns=['Latitude', 'Longitude'])"
   ]
  },
  {
   "cell_type": "code",
   "execution_count": 13,
   "metadata": {},
   "outputs": [],
   "source": [
    "# merge the coordinates into the original dataframe\n",
    "jharkhand_df['Latitude'] = df_coords['Latitude']\n",
    "jharkhand_df['Longitude'] = df_coords['Longitude']"
   ]
  },
  {
   "cell_type": "code",
   "execution_count": 14,
   "metadata": {},
   "outputs": [
    {
     "name": "stdout",
     "output_type": "stream",
     "text": [
      "(12, 5)\n"
     ]
    },
    {
     "data": {
      "text/html": [
       "<div>\n",
       "<style scoped>\n",
       "    .dataframe tbody tr th:only-of-type {\n",
       "        vertical-align: middle;\n",
       "    }\n",
       "\n",
       "    .dataframe tbody tr th {\n",
       "        vertical-align: top;\n",
       "    }\n",
       "\n",
       "    .dataframe thead th {\n",
       "        text-align: right;\n",
       "    }\n",
       "</style>\n",
       "<table border=\"1\" class=\"dataframe\">\n",
       "  <thead>\n",
       "    <tr style=\"text-align: right;\">\n",
       "      <th></th>\n",
       "      <th>Rank</th>\n",
       "      <th>Name of City</th>\n",
       "      <th>District</th>\n",
       "      <th>Latitude</th>\n",
       "      <th>Longitude</th>\n",
       "    </tr>\n",
       "  </thead>\n",
       "  <tbody>\n",
       "    <tr>\n",
       "      <th>0</th>\n",
       "      <td>1</td>\n",
       "      <td>Jamshedpur</td>\n",
       "      <td>East Singhbhum Seraikela Kharsawan</td>\n",
       "      <td>22.78150</td>\n",
       "      <td>86.21215</td>\n",
       "    </tr>\n",
       "    <tr>\n",
       "      <th>1</th>\n",
       "      <td>2</td>\n",
       "      <td>Dhanbad</td>\n",
       "      <td>Dhanbad</td>\n",
       "      <td>23.79595</td>\n",
       "      <td>86.43058</td>\n",
       "    </tr>\n",
       "    <tr>\n",
       "      <th>2</th>\n",
       "      <td>3</td>\n",
       "      <td>Ranchi</td>\n",
       "      <td>Ranchi</td>\n",
       "      <td>23.35060</td>\n",
       "      <td>85.31378</td>\n",
       "    </tr>\n",
       "    <tr>\n",
       "      <th>3</th>\n",
       "      <td>4</td>\n",
       "      <td>Bokaro Steel City</td>\n",
       "      <td>Bokaro</td>\n",
       "      <td>23.65903</td>\n",
       "      <td>86.13716</td>\n",
       "    </tr>\n",
       "    <tr>\n",
       "      <th>4</th>\n",
       "      <td>5</td>\n",
       "      <td>Deoghar</td>\n",
       "      <td>Deoghar</td>\n",
       "      <td>24.48907</td>\n",
       "      <td>86.69950</td>\n",
       "    </tr>\n",
       "    <tr>\n",
       "      <th>5</th>\n",
       "      <td>6</td>\n",
       "      <td>Chakradharpur</td>\n",
       "      <td>West Singhbum</td>\n",
       "      <td>22.67237</td>\n",
       "      <td>85.62049</td>\n",
       "    </tr>\n",
       "    <tr>\n",
       "      <th>6</th>\n",
       "      <td>7</td>\n",
       "      <td>Phusro</td>\n",
       "      <td>Bokaro</td>\n",
       "      <td>23.76510</td>\n",
       "      <td>85.99122</td>\n",
       "    </tr>\n",
       "    <tr>\n",
       "      <th>7</th>\n",
       "      <td>8</td>\n",
       "      <td>Hazaribagh</td>\n",
       "      <td>Hazaribag</td>\n",
       "      <td>23.99879</td>\n",
       "      <td>85.36729</td>\n",
       "    </tr>\n",
       "    <tr>\n",
       "      <th>8</th>\n",
       "      <td>9</td>\n",
       "      <td>Giridih</td>\n",
       "      <td>Giridih</td>\n",
       "      <td>24.18711</td>\n",
       "      <td>86.30464</td>\n",
       "    </tr>\n",
       "    <tr>\n",
       "      <th>9</th>\n",
       "      <td>10</td>\n",
       "      <td>Ramgarh</td>\n",
       "      <td>Ramgarh</td>\n",
       "      <td>24.56355</td>\n",
       "      <td>87.25026</td>\n",
       "    </tr>\n",
       "    <tr>\n",
       "      <th>10</th>\n",
       "      <td>11</td>\n",
       "      <td>Medininagar</td>\n",
       "      <td>Palamu</td>\n",
       "      <td>24.03779</td>\n",
       "      <td>84.06237</td>\n",
       "    </tr>\n",
       "    <tr>\n",
       "      <th>11</th>\n",
       "      <td>12</td>\n",
       "      <td>Chirkunda</td>\n",
       "      <td>Dhanbad</td>\n",
       "      <td>23.74186</td>\n",
       "      <td>86.79578</td>\n",
       "    </tr>\n",
       "  </tbody>\n",
       "</table>\n",
       "</div>"
      ],
      "text/plain": [
       "   Rank       Name of City                            District  Latitude  \\\n",
       "0     1         Jamshedpur  East Singhbhum Seraikela Kharsawan  22.78150   \n",
       "1     2            Dhanbad                             Dhanbad  23.79595   \n",
       "2     3             Ranchi                              Ranchi  23.35060   \n",
       "3     4  Bokaro Steel City                              Bokaro  23.65903   \n",
       "4     5            Deoghar                             Deoghar  24.48907   \n",
       "5     6      Chakradharpur                       West Singhbum  22.67237   \n",
       "6     7             Phusro                              Bokaro  23.76510   \n",
       "7     8         Hazaribagh                           Hazaribag  23.99879   \n",
       "8     9            Giridih                             Giridih  24.18711   \n",
       "9    10            Ramgarh                             Ramgarh  24.56355   \n",
       "10   11        Medininagar                              Palamu  24.03779   \n",
       "11   12          Chirkunda                             Dhanbad  23.74186   \n",
       "\n",
       "    Longitude  \n",
       "0    86.21215  \n",
       "1    86.43058  \n",
       "2    85.31378  \n",
       "3    86.13716  \n",
       "4    86.69950  \n",
       "5    85.62049  \n",
       "6    85.99122  \n",
       "7    85.36729  \n",
       "8    86.30464  \n",
       "9    87.25026  \n",
       "10   84.06237  \n",
       "11   86.79578  "
      ]
     },
     "execution_count": 14,
     "metadata": {},
     "output_type": "execute_result"
    }
   ],
   "source": [
    "print(jharkhand_df.shape)\n",
    "jharkhand_df"
   ]
  },
  {
   "cell_type": "code",
   "execution_count": 15,
   "metadata": {},
   "outputs": [],
   "source": [
    "# save the DataFrame as CSV file\n",
    "jharkhand_df.to_csv(\"jharkhand_df.csv\", index=False)"
   ]
  },
  {
   "cell_type": "markdown",
   "metadata": {},
   "source": [
    "---"
   ]
  },
  {
   "cell_type": "markdown",
   "metadata": {},
   "source": [
    "### Let's create a complete map of Jharkhand with the Name of Cities superimposed on top, with the help of Folium library\n",
    "**JAMSHEDPUR** shown with different marker"
   ]
  },
  {
   "cell_type": "code",
   "execution_count": 16,
   "metadata": {},
   "outputs": [],
   "source": [
    "locator = Nominatim(user_agent=\"myGeocoder\")\n",
    "location = locator.geocode(\"Jamshedpur, Jharkhand\")"
   ]
  },
  {
   "cell_type": "code",
   "execution_count": 17,
   "metadata": {},
   "outputs": [
    {
     "name": "stdout",
     "output_type": "stream",
     "text": [
      "Geographical coordinates of jamshedpur are:- \n",
      "Latitude = 22.8015194, Longitude = 86.2029579\n"
     ]
    }
   ],
   "source": [
    "#getting the coordinates of Jamshedpur\n",
    "jsr_lat = location.latitude\n",
    "jsr_long = location.longitude\n",
    "print(\"Geographical coordinates of jamshedpur are:- \\nLatitude = {}, Longitude = {}\".format(jsr_lat,jsr_long))"
   ]
  },
  {
   "cell_type": "code",
   "execution_count": 18,
   "metadata": {},
   "outputs": [
    {
     "data": {
      "text/html": [
       "<div style=\"width:100%;\"><div style=\"position:relative;width:100%;height:0;padding-bottom:60%;\"><iframe src=\"about:blank\" style=\"position:absolute;width:100%;height:100%;left:0;top:0;border:none !important;\" data-html=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 onload=\"this.contentDocument.open();this.contentDocument.write(atob(this.getAttribute('data-html')));this.contentDocument.close();\" allowfullscreen webkitallowfullscreen mozallowfullscreen></iframe></div></div>"
      ],
      "text/plain": [
       "<folium.folium.Map at 0x221ed3691d0>"
      ]
     },
     "execution_count": 18,
     "metadata": {},
     "output_type": "execute_result"
    }
   ],
   "source": [
    "#Plotting the map of Jharkhand\n",
    "jharkhand_map = folium.Map(location=[jsr_lat, jsr_long], zoom_start=8)\n",
    "\n",
    "# add markers to map\n",
    "for lat, lng, neighborhood in zip(jharkhand_df['Latitude'], jharkhand_df['Longitude'], jharkhand_df['Name of City']):\n",
    "    label = '{}'.format(neighborhood)\n",
    "    label = folium.Popup(label, parse_html=True)\n",
    "    if neighborhood == 'Jamshedpur':\n",
    "        folium.Marker(\n",
    "            [lat, lng],\n",
    "            radius=7,\n",
    "            popup=label,\n",
    "            icon=folium.Icon(color='red')).add_to(jharkhand_map) \n",
    "    else:\n",
    "        folium.CircleMarker(\n",
    "            [lat, lng],\n",
    "            radius=7,\n",
    "            popup=label,\n",
    "            color='blue',\n",
    "            fill=True,\n",
    "            fill_color='#3186cc',\n",
    "            fill_opacity=0.7).add_to(jharkhand_map)  \n",
    "    \n",
    "jharkhand_map"
   ]
  },
  {
   "cell_type": "code",
   "execution_count": 19,
   "metadata": {},
   "outputs": [],
   "source": [
    "jharkhand_map.save(\"Jharkhand Map.html\") #to save the map of Jharkhand"
   ]
  },
  {
   "cell_type": "markdown",
   "metadata": {},
   "source": [
    "### Let's use the folium library to create a complete map zoomed on **Jamshedpur**. <br>\n",
    "We'll also plot a marker on the coordinates we just identified above. This would give us a relatively good look at the center point we will be considering."
   ]
  },
  {
   "cell_type": "code",
   "execution_count": 20,
   "metadata": {
    "scrolled": false
   },
   "outputs": [
    {
     "data": {
      "text/html": [
       "<div style=\"width:100%;\"><div style=\"position:relative;width:100%;height:0;padding-bottom:60%;\"><iframe src=\"about:blank\" style=\"position:absolute;width:100%;height:100%;left:0;top:0;border:none !important;\" data-html=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 onload=\"this.contentDocument.open();this.contentDocument.write(atob(this.getAttribute('data-html')));this.contentDocument.close();\" allowfullscreen webkitallowfullscreen mozallowfullscreen></iframe></div></div>"
      ],
      "text/plain": [
       "<folium.folium.Map at 0x221ed38d3c8>"
      ]
     },
     "execution_count": 20,
     "metadata": {},
     "output_type": "execute_result"
    }
   ],
   "source": [
    "#ploting the map of Jamshedpur\n",
    "jsr_map = folium.Map(location = [jsr_lat, jsr_long], zoom_start = 13)\n",
    "folium.Marker([jsr_lat, jsr_long]).add_to(jsr_map)\n",
    "jsr_map.save(\"Jamshedpur Map.html\") #to save the map as a html file\n",
    "jsr_map"
   ]
  },
  {
   "cell_type": "markdown",
   "metadata": {},
   "source": [
    "---"
   ]
  },
  {
   "cell_type": "markdown",
   "metadata": {},
   "source": [
    "### Foursquare API <br>\n",
    "We begin by fetching a total of all venues in **Jamshedpur** upto a range of 10 Kilometers using the Foursquare API. The Foursquare API has the explore API which allows us to find venue recommendations within a given radius from the given coordinates. We will use this API to find all the venues we need."
   ]
  },
  {
   "cell_type": "code",
   "execution_count": 21,
   "metadata": {},
   "outputs": [
    {
     "name": "stdout",
     "output_type": "stream",
     "text": [
      "Your credentails:\n",
      "CLIENT_ID: xxxxxxxxxxxxxxxxxxxxxxxxxxxxxxxxxxxxxxxxxxxxx\n",
      "CLIENT_SECRET:xxxxxxxxxxxxxxxxxxxxxxxxxxxxxxxxxxxxxxxxxxxx\n"
     ]
    }
   ],
   "source": [
    "CLIENT_ID = 'xxxxxxxxxxxxxxxxxxxxxxxxxxxxxxxxxxxxxxxxxxxxx' #your foursquare client id\n",
    "CLIENT_SECRET = 'xxxxxxxxxxxxxxxxxxxxxxxxxxxxxxxxxxxxxxxxxxxx' #your foursquare client secret\n",
    "RADIUS = 10000 # 10 Km\n",
    "NO_OF_VENUES = 100\n",
    "VERSION = '20200606' # Current date\n",
    "\n",
    "print('Your credentails:')\n",
    "print('CLIENT_ID: ' + CLIENT_ID)\n",
    "print('CLIENT_SECRET:' + CLIENT_SECRET)"
   ]
  },
  {
   "cell_type": "markdown",
   "metadata": {},
   "source": [
    "We define the get_category_type method to get the correct category for each venue."
   ]
  },
  {
   "cell_type": "code",
   "execution_count": 22,
   "metadata": {},
   "outputs": [],
   "source": [
    "def get_category_type(row):\n",
    "    try:\n",
    "        categories_list = row['categories']\n",
    "    except:\n",
    "        categories_list = row['venue.categories']\n",
    "        \n",
    "    if len(categories_list) == 0:\n",
    "        return None\n",
    "    else:\n",
    "        return categories_list[0]['name']"
   ]
  },
  {
   "cell_type": "code",
   "execution_count": 23,
   "metadata": {},
   "outputs": [
    {
     "name": "stdout",
     "output_type": "stream",
     "text": [
      "Total 14 venues fetched within a total radius of 10.0 Km\n",
      "\n",
      "Total 14 venues fetched\n"
     ]
    }
   ],
   "source": [
    "offset = 0\n",
    "total_venues = 0\n",
    "foursquare_venues = pd.DataFrame(columns = ['name', 'categories', 'lat', 'lng'])\n",
    "\n",
    "while (True):\n",
    "    url = ('https://api.foursquare.com/v2/venues/explore?client_id={}'\n",
    "           '&client_secret={}&v={}&ll={},{}&radius={}&limit={}&offset={}').format(CLIENT_ID, \n",
    "                                                                        CLIENT_SECRET, \n",
    "                                                                        VERSION, \n",
    "                                                                        jsr_lat, \n",
    "                                                                        jsr_long, \n",
    "                                                                        RADIUS,\n",
    "                                                                        NO_OF_VENUES,\n",
    "                                                                        offset)\n",
    "    result = requests.get(url).json()\n",
    "    venues_fetched = len(result['response']['groups'][0]['items'])\n",
    "    total_venues = total_venues + venues_fetched\n",
    "    print(\"Total {} venues fetched within a total radius of {} Km\".format(venues_fetched, RADIUS/1000))\n",
    "\n",
    "    venues = result['response']['groups'][0]['items']\n",
    "    venues = json_normalize(venues)\n",
    "\n",
    "    # Filter the columns\n",
    "    filtered_columns = ['venue.name', 'venue.categories', 'venue.location.lat', 'venue.location.lng']\n",
    "    venues = venues.loc[:, filtered_columns]\n",
    "\n",
    "    # Filter the category for each row\n",
    "    venues['venue.categories'] = venues.apply(get_category_type, axis = 1)\n",
    "\n",
    "    # Clean all column names\n",
    "    venues.columns = [col.split(\".\")[-1] for col in venues.columns]\n",
    "    foursquare_venues = pd.concat([foursquare_venues, venues], axis = 0, sort = False)\n",
    "    \n",
    "    if (venues_fetched < 100):\n",
    "        break\n",
    "    else:\n",
    "        offset = offset + 100\n",
    "\n",
    "foursquare_venues = foursquare_venues.reset_index(drop = True)\n",
    "print(\"\\nTotal {} venues fetched\".format(total_venues))"
   ]
  },
  {
   "cell_type": "markdown",
   "metadata": {},
   "source": [
    "---"
   ]
  },
  {
   "cell_type": "markdown",
   "metadata": {},
   "source": [
    "### Zomato API"
   ]
  },
  {
   "cell_type": "code",
   "execution_count": 24,
   "metadata": {},
   "outputs": [
    {
     "name": "stdout",
     "output_type": "stream",
     "text": [
      "Fetching data for venue: 1\n",
      "Fetching data for venue: 2\n",
      "Fetching data for venue: 3\n",
      "Fetching data for venue: 4\n",
      "Fetching data for venue: 5\n",
      "Fetching data for venue: 6\n",
      "Fetching data for venue: 7\n",
      "Fetching data for venue: 8\n",
      "Fetching data for venue: 9\n",
      "Fetching data for venue: 10\n",
      "Fetching data for venue: 11\n",
      "Fetching data for venue: 12\n",
      "Fetching data for venue: 13\n",
      "Fetching data for venue: 14\n"
     ]
    }
   ],
   "source": [
    "headers = {'user-key': 'a6d7b1209360413b8132d4a1f56bcdd3'} #Your zomato user key\n",
    "venues_information = []\n",
    "\n",
    "for index, row in foursquare_venues.iterrows():\n",
    "    print(\"Fetching data for venue: {}\".format(index + 1))\n",
    "    venue = []\n",
    "    url = ('https://developers.zomato.com/api/v2.1/search?q={}' + \n",
    "          '&start=0&count=1&lat={}&lon={}&sort=real_distance').format(row['name'], row['lat'], row['lng'])\n",
    "    result = requests.get(url, headers = headers).json()\n",
    "    if (len(result['restaurants']) > 0):\n",
    "        venue.append(result['restaurants'][0]['restaurant']['name'])\n",
    "        venue.append(result['restaurants'][0]['restaurant']['location']['latitude'])\n",
    "        venue.append(result['restaurants'][0]['restaurant']['location']['longitude'])\n",
    "        venue.append(result['restaurants'][0]['restaurant']['average_cost_for_two'])\n",
    "        venue.append(result['restaurants'][0]['restaurant']['price_range'])\n",
    "        venue.append(result['restaurants'][0]['restaurant']['user_rating']['aggregate_rating'])\n",
    "        venue.append(result['restaurants'][0]['restaurant']['location']['address'])\n",
    "        venues_information.append(venue)\n",
    "    else:\n",
    "        venues_information.append(np.zeros(6))\n",
    "    \n",
    "zomato_venues = pd.DataFrame(venues_information, \n",
    "                                  columns = ['venue', 'latitude', \n",
    "                                             'longitude', 'price_for_two', \n",
    "                                             'price_range', 'rating', 'address'])"
   ]
  },
  {
   "cell_type": "markdown",
   "metadata": {},
   "source": [
    "Plotting the Foursquare data on map"
   ]
  },
  {
   "cell_type": "code",
   "execution_count": 25,
   "metadata": {},
   "outputs": [
    {
     "data": {
      "text/html": [
       "<div style=\"width:100%;\"><div style=\"position:relative;width:100%;height:0;padding-bottom:60%;\"><iframe src=\"about:blank\" style=\"position:absolute;width:100%;height:100%;left:0;top:0;border:none !important;\" data-html=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 onload=\"this.contentDocument.open();this.contentDocument.write(atob(this.getAttribute('data-html')));this.contentDocument.close();\" allowfullscreen webkitallowfullscreen mozallowfullscreen></iframe></div></div>"
      ],
      "text/plain": [
       "<folium.folium.Map at 0x221ed3b4da0>"
      ]
     },
     "execution_count": 25,
     "metadata": {},
     "output_type": "execute_result"
    }
   ],
   "source": [
    "jsr_venues_map = folium.Map(location = [jsr_lat, jsr_long], zoom_start = 13)\n",
    "\n",
    "for name, latitude, longitude in zip(foursquare_venues['name'], foursquare_venues['lat'], foursquare_venues['lng']):\n",
    "    label = '{}'.format(name)\n",
    "    label = folium.Popup(label, parse_html = True)\n",
    "    folium.CircleMarker(\n",
    "        [latitude, longitude],\n",
    "        radius = 5,\n",
    "        popup = label,\n",
    "        color = 'green',\n",
    "        fill = True,\n",
    "        fill_color = '#3186cc',\n",
    "        fill_opacity = 0.7,\n",
    "        parse_html = False).add_to(jsr_venues_map)  \n",
    "\n",
    "jsr_venues_map.save(\"Venues by Foursquare.html\")\n",
    "jsr_venues_map"
   ]
  },
  {
   "cell_type": "markdown",
   "metadata": {},
   "source": [
    "From the map we can infer that there are clusters of venues around **Bistupur**"
   ]
  },
  {
   "cell_type": "markdown",
   "metadata": {},
   "source": [
    "Plotting the Zomato data on the map."
   ]
  },
  {
   "cell_type": "code",
   "execution_count": 26,
   "metadata": {},
   "outputs": [
    {
     "data": {
      "text/html": [
       "<div style=\"width:100%;\"><div style=\"position:relative;width:100%;height:0;padding-bottom:60%;\"><iframe src=\"about:blank\" style=\"position:absolute;width:100%;height:100%;left:0;top:0;border:none !important;\" data-html=PCFET0NUWVBFIGh0bWw+CjxoZWFkPiAgICAKICAgIDxtZXRhIGh0dHAtZXF1aXY9ImNvbnRlbnQtdHlwZSIgY29udGVudD0idGV4dC9odG1sOyBjaGFyc2V0PVVURi04IiAvPgogICAgCiAgICAgICAgPHNjcmlwdD4KICAgICAgICAgICAgTF9OT19UT1VDSCA9IGZhbHNlOwogICAgICAgICAgICBMX0RJU0FCTEVfM0QgPSBmYWxzZTsKICAgICAgICA8L3NjcmlwdD4KICAgIAogICAgPHNjcmlwdCBzcmM9Imh0dHBzOi8vY2RuLmpzZGVsaXZyLm5ldC9ucG0vbGVhZmxldEAxLjUuMS9kaXN0L2xlYWZsZXQuanMiPjwvc2NyaXB0PgogICAgPHNjcmlwdCBzcmM9Imh0dHBzOi8vY29kZS5qcXVlcnkuY29tL2pxdWVyeS0xLjEyLjQubWluLmpzIj48L3NjcmlwdD4KICAgIDxzY3JpcHQgc3JjPSJodHRwczovL21heGNkbi5ib290c3RyYXBjZG4uY29tL2Jvb3RzdHJhcC8zLjIuMC9qcy9ib290c3RyYXAubWluLmpzIj48L3NjcmlwdD4KICAgIDxzY3JpcHQgc3JjPSJodHRwczovL2NkbmpzLmNsb3VkZmxhcmUuY29tL2FqYXgvbGlicy9MZWFmbGV0LmF3ZXNvbWUtbWFya2Vycy8yLjAuMi9sZWFmbGV0LmF3ZXNvbWUtbWFya2Vycy5qcyI+PC9zY3JpcHQ+CiAgICA8bGluayByZWw9InN0eWxlc2hlZXQiIGhyZWY9Imh0dHBzOi8vY2RuLmpzZGVsaXZyLm5ldC9ucG0vbGVhZmxldEAxLjUuMS9kaXN0L2xlYWZsZXQuY3NzIi8+CiAgICA8bGluayByZWw9InN0eWxlc2hlZXQiIGhyZWY9Imh0dHBzOi8vbWF4Y2RuLmJvb3RzdHJhcGNkbi5jb20vYm9vdHN0cmFwLzMuMi4wL2Nzcy9ib290c3RyYXAubWluLmNzcyIvPgogICAgPGxpbmsgcmVsPSJzdHlsZXNoZWV0IiBocmVmPSJodHRwczovL21heGNkbi5ib290c3RyYXBjZG4uY29tL2Jvb3RzdHJhcC8zLjIuMC9jc3MvYm9vdHN0cmFwLXRoZW1lLm1pbi5jc3MiLz4KICAgIDxsaW5rIHJlbD0ic3R5bGVzaGVldCIgaHJlZj0iaHR0cHM6Ly9tYXhjZG4uYm9vdHN0cmFwY2RuLmNvbS9mb250LWF3ZXNvbWUvNC42LjMvY3NzL2ZvbnQtYXdlc29tZS5taW4uY3NzIi8+CiAgICA8bGluayByZWw9InN0eWxlc2hlZXQiIGhyZWY9Imh0dHBzOi8vY2RuanMuY2xvdWRmbGFyZS5jb20vYWpheC9saWJzL0xlYWZsZXQuYXdlc29tZS1tYXJrZXJzLzIuMC4yL2xlYWZsZXQuYXdlc29tZS1tYXJrZXJzLmNzcyIvPgogICAgPGxpbmsgcmVsPSJzdHlsZXNoZWV0IiBocmVmPSJodHRwczovL3Jhd2Nkbi5naXRoYWNrLmNvbS9weXRob24tdmlzdWFsaXphdGlvbi9mb2xpdW0vbWFzdGVyL2ZvbGl1bS90ZW1wbGF0ZXMvbGVhZmxldC5hd2Vzb21lLnJvdGF0ZS5jc3MiLz4KICAgIDxzdHlsZT5odG1sLCBib2R5IHt3aWR0aDogMTAwJTtoZWlnaHQ6IDEwMCU7bWFyZ2luOiAwO3BhZGRpbmc6IDA7fTwvc3R5bGU+CiAgICA8c3R5bGU+I21hcCB7cG9zaXRpb246YWJzb2x1dGU7dG9wOjA7Ym90dG9tOjA7cmlnaHQ6MDtsZWZ0OjA7fTwvc3R5bGU+CiAgICAKICAgICAgICAgICAgPG1ldGEgbmFtZT0idmlld3BvcnQiIGNvbnRlbnQ9IndpZHRoPWRldmljZS13aWR0aCwKICAgICAgICAgICAgICAgIGluaXRpYWwtc2NhbGU9MS4wLCBtYXhpbXVtLXNjYWxlPTEuMCwgdXNlci1zY2FsYWJsZT1ubyIgLz4KICAgICAgICAgICAgPHN0eWxlPgogICAgICAgICAgICAgICAgI21hcF9kZjk5ZWJkY2NkMjA0YjJjYTA0ZDJjZDYwNzY5MDBlMCB7CiAgICAgICAgICAgICAgICAgICAgcG9zaXRpb246IHJlbGF0aXZlOwogICAgICAgICAgICAgICAgICAgIHdpZHRoOiAxMDAuMCU7CiAgICAgICAgICAgICAgICAgICAgaGVpZ2h0OiAxMDAuMCU7CiAgICAgICAgICAgICAgICAgICAgbGVmdDogMC4wJTsKICAgICAgICAgICAgICAgICAgICB0b3A6IDAuMCU7CiAgICAgICAgICAgICAgICB9CiAgICAgICAgICAgIDwvc3R5bGU+CiAgICAgICAgCjwvaGVhZD4KPGJvZHk+ICAgIAogICAgCiAgICAgICAgICAgIDxkaXYgY2xhc3M9ImZvbGl1bS1tYXAiIGlkPSJtYXBfZGY5OWViZGNjZDIwNGIyY2EwNGQyY2Q2MDc2OTAwZTAiID48L2Rpdj4KICAgICAgICAKPC9ib2R5Pgo8c2NyaXB0PiAgICAKICAgIAogICAgICAgICAgICB2YXIgbWFwX2RmOTllYmRjY2QyMDRiMmNhMDRkMmNkNjA3NjkwMGUwID0gTC5tYXAoCiAgICAgICAgICAgICAgICAibWFwX2RmOTllYmRjY2QyMDRiMmNhMDRkMmNkNjA3NjkwMGUwIiwKICAgICAgICAgICAgICAgIHsKICAgICAgICAgICAgICAgICAgICBjZW50ZXI6IFsyMi44MDE1MTk0LCA4Ni4yMDI5NTc5XSwKICAgICAgICAgICAgICAgICAgICBjcnM6IEwuQ1JTLkVQU0czODU3LAogICAgICAgICAgICAgICAgICAgIHpvb206IDEzLAogICAgICAgICAgICAgICAgICAgIHpvb21Db250cm9sOiB0cnVlLAogICAgICAgICAgICAgICAgICAgIHByZWZlckNhbnZhczogZmFsc2UsCiAgICAgICAgICAgICAgICB9CiAgICAgICAgICAgICk7CgogICAgICAgICAgICAKCiAgICAgICAgCiAgICAKICAgICAgICAgICAgdmFyIHRpbGVfbGF5ZXJfMTJmNGExZGE4ZDRiNDFmZDhmMTc4NzNiZDgwOGZiNWYgPSBMLnRpbGVMYXllcigKICAgICAgICAgICAgICAgICJodHRwczovL3tzfS50aWxlLm9wZW5zdHJlZXRtYXAub3JnL3t6fS97eH0ve3l9LnBuZyIsCiAgICAgICAgICAgICAgICB7ImF0dHJpYnV0aW9uIjogIkRhdGEgYnkgXHUwMDI2Y29weTsgXHUwMDNjYSBocmVmPVwiaHR0cDovL29wZW5zdHJlZXRtYXAub3JnXCJcdTAwM2VPcGVuU3RyZWV0TWFwXHUwMDNjL2FcdTAwM2UsIHVuZGVyIFx1MDAzY2EgaHJlZj1cImh0dHA6Ly93d3cub3BlbnN0cmVldG1hcC5vcmcvY29weXJpZ2h0XCJcdTAwM2VPRGJMXHUwMDNjL2FcdTAwM2UuIiwgImRldGVjdFJldGluYSI6IGZhbHNlLCAibWF4TmF0aXZlWm9vbSI6IDE4LCAibWF4Wm9vbSI6IDE4LCAibWluWm9vbSI6IDAsICJub1dyYXAiOiBmYWxzZSwgIm9wYWNpdHkiOiAxLCAic3ViZG9tYWlucyI6ICJhYmMiLCAidG1zIjogZmFsc2V9CiAgICAgICAgICAgICkuYWRkVG8obWFwX2RmOTllYmRjY2QyMDRiMmNhMDRkMmNkNjA3NjkwMGUwKTsKICAgICAgICAKICAgIAogICAgICAgICAgICB2YXIgY2lyY2xlX21hcmtlcl85OTU3YmUwYjlhYTE0MmE2YTZmMzgyYzQ3MDJiNjcyNyA9IEwuY2lyY2xlTWFya2VyKAogICAgICAgICAgICAgICAgWzIyLjgwNjIxMywgODYuMTkxNTQ3XSwKICAgICAgICAgICAgICAgIHsiYnViYmxpbmdNb3VzZUV2ZW50cyI6IHRydWUsICJjb2xvciI6ICJyZWQiLCAiZGFzaEFycmF5IjogbnVsbCwgImRhc2hPZmZzZXQiOiBudWxsLCAiZmlsbCI6IHRydWUsICJmaWxsQ29sb3IiOiAiI2NjMzUzNSIsICJmaWxsT3BhY2l0eSI6IDAuNywgImZpbGxSdWxlIjogImV2ZW5vZGQiLCAibGluZUNhcCI6ICJyb3VuZCIsICJsaW5lSm9pbiI6ICJyb3VuZCIsICJvcGFjaXR5IjogMS4wLCAicmFkaXVzIjogNSwgInN0cm9rZSI6IHRydWUsICJ3ZWlnaHQiOiAzfQogICAgICAgICAgICApLmFkZFRvKG1hcF9kZjk5ZWJkY2NkMjA0YjJjYTA0ZDJjZDYwNzY5MDBlMCk7CiAgICAgICAgCiAgICAKICAgICAgICB2YXIgcG9wdXBfZTlmZWJlM2FhYWJhNGI3MGI1MWU2NjA1MzY3NTM4NzkgPSBMLnBvcHVwKHsibWF4V2lkdGgiOiAiMTAwJSJ9KTsKCiAgICAgICAgCiAgICAgICAgICAgIHZhciBodG1sX2U4ZWRmZTg5MTY3MzRiYmFhOGRlZWQ2MzQ1YjRkOTU1ID0gJChgPGRpdiBpZD0iaHRtbF9lOGVkZmU4OTE2NzM0YmJhYThkZWVkNjM0NWI0ZDk1NSIgc3R5bGU9IndpZHRoOiAxMDAuMCU7IGhlaWdodDogMTAwLjAlOyI+V2F2ZSBJbnRlcm5hdGlvbmFsLCBOZWFyIE1vZGkgUGFyaywgS2lubmFuIFN0YWRpdW0sIEJpc3R1cHVyLCBKYW1zaGVkcHVyPC9kaXY+YClbMF07CiAgICAgICAgICAgIHBvcHVwX2U5ZmViZTNhYWFiYTRiNzBiNTFlNjYwNTM2NzUzODc5LnNldENvbnRlbnQoaHRtbF9lOGVkZmU4OTE2NzM0YmJhYThkZWVkNjM0NWI0ZDk1NSk7CiAgICAgICAgCgogICAgICAgIGNpcmNsZV9tYXJrZXJfOTk1N2JlMGI5YWExNDJhNmE2ZjM4MmM0NzAyYjY3MjcuYmluZFBvcHVwKHBvcHVwX2U5ZmViZTNhYWFiYTRiNzBiNTFlNjYwNTM2NzUzODc5KQogICAgICAgIDsKCiAgICAgICAgCiAgICAKICAgIAogICAgICAgICAgICB2YXIgY2lyY2xlX21hcmtlcl8yZmY2MDNhOWI0ZTU0MzUxYWNlOTIwZmVlNmQ2MDc4MSA9IEwuY2lyY2xlTWFya2VyKAogICAgICAgICAgICAgICAgWzIyLjc5NzgzNzkzMTQsIDg2LjE4NDMzNTA1M10sCiAgICAgICAgICAgICAgICB7ImJ1YmJsaW5nTW91c2VFdmVudHMiOiB0cnVlLCAiY29sb3IiOiAicmVkIiwgImRhc2hBcnJheSI6IG51bGwsICJkYXNoT2Zmc2V0IjogbnVsbCwgImZpbGwiOiB0cnVlLCAiZmlsbENvbG9yIjogIiNjYzM1MzUiLCAiZmlsbE9wYWNpdHkiOiAwLjcsICJmaWxsUnVsZSI6ICJldmVub2RkIiwgImxpbmVDYXAiOiAicm91bmQiLCAibGluZUpvaW4iOiAicm91bmQiLCAib3BhY2l0eSI6IDEuMCwgInJhZGl1cyI6IDUsICJzdHJva2UiOiB0cnVlLCAid2VpZ2h0IjogM30KICAgICAgICAgICAgKS5hZGRUbyhtYXBfZGY5OWViZGNjZDIwNGIyY2EwNGQyY2Q2MDc2OTAwZTApOwogICAgICAgIAogICAgCiAgICAgICAgdmFyIHBvcHVwXzNlMGQ2MDg4ZGFiMTQwMDlhZWM3NTg0MmI2ZGQ0Yjg0ID0gTC5wb3B1cCh7Im1heFdpZHRoIjogIjEwMCUifSk7CgogICAgICAgIAogICAgICAgICAgICB2YXIgaHRtbF83MmNiZjk3NDA1ZGE0YjUxOGEwNDNhYTJjZTYyNDhhOSA9ICQoYDxkaXYgaWQ9Imh0bWxfNzJjYmY5NzQwNWRhNGI1MThhMDQzYWEyY2U2MjQ4YTkiIHN0eWxlPSJ3aWR0aDogMTAwLjAlOyBoZWlnaHQ6IDEwMC4wJTsiPldhdmUgSW50ZXJuYXRpb25hbCwgRGNvc3RhIE1hbnNpb24sIE1haW4gUm9hZCwgQmlzdHVwdXIsIEphbXNoZWRwdXI8L2Rpdj5gKVswXTsKICAgICAgICAgICAgcG9wdXBfM2UwZDYwODhkYWIxNDAwOWFlYzc1ODQyYjZkZDRiODQuc2V0Q29udGVudChodG1sXzcyY2JmOTc0MDVkYTRiNTE4YTA0M2FhMmNlNjI0OGE5KTsKICAgICAgICAKCiAgICAgICAgY2lyY2xlX21hcmtlcl8yZmY2MDNhOWI0ZTU0MzUxYWNlOTIwZmVlNmQ2MDc4MS5iaW5kUG9wdXAocG9wdXBfM2UwZDYwODhkYWIxNDAwOWFlYzc1ODQyYjZkZDRiODQpCiAgICAgICAgOwoKICAgICAgICAKICAgIAogICAgCiAgICAgICAgICAgIHZhciBjaXJjbGVfbWFya2VyXzMyZTdhN2ZkZTI2ODQ3NWZhMjUwZGU4OGYwMjA3MDVhID0gTC5jaXJjbGVNYXJrZXIoCiAgICAgICAgICAgICAgICBbMjIuNzk0MTkyODU5NywgODYuMTc2MTQxMjM5N10sCiAgICAgICAgICAgICAgICB7ImJ1YmJsaW5nTW91c2VFdmVudHMiOiB0cnVlLCAiY29sb3IiOiAicmVkIiwgImRhc2hBcnJheSI6IG51bGwsICJkYXNoT2Zmc2V0IjogbnVsbCwgImZpbGwiOiB0cnVlLCAiZmlsbENvbG9yIjogIiNjYzM1MzUiLCAiZmlsbE9wYWNpdHkiOiAwLjcsICJmaWxsUnVsZSI6ICJldmVub2RkIiwgImxpbmVDYXAiOiAicm91bmQiLCAibGluZUpvaW4iOiAicm91bmQiLCAib3BhY2l0eSI6IDEuMCwgInJhZGl1cyI6IDUsICJzdHJva2UiOiB0cnVlLCAid2VpZ2h0IjogM30KICAgICAgICAgICAgKS5hZGRUbyhtYXBfZGY5OWViZGNjZDIwNGIyY2EwNGQyY2Q2MDc2OTAwZTApOwogICAgICAgIAogICAgCiAgICAgICAgdmFyIHBvcHVwXzQzZTcwODZjNzlkZDRmZWVhODM0NTNjNDBlMGFlY2FkID0gTC5wb3B1cCh7Im1heFdpZHRoIjogIjEwMCUifSk7CgogICAgICAgIAogICAgICAgICAgICB2YXIgaHRtbF82ODE0MTliNWZjZmI0ZDAzODI0MTk0YThhOTkwYjdmNSA9ICQoYDxkaXYgaWQ9Imh0bWxfNjgxNDE5YjVmY2ZiNGQwMzgyNDE5NGE4YTk5MGI3ZjUiIHN0eWxlPSJ3aWR0aDogMTAwLjAlOyBoZWlnaHQ6IDEwMC4wJTsiPldhdmUgSW50ZXJuYXRpb25hbCwgSG90ZWwgUmFtYWRhLCBIb2xkaW5nIDMsIEJpc3R1cHVyPC9kaXY+YClbMF07CiAgICAgICAgICAgIHBvcHVwXzQzZTcwODZjNzlkZDRmZWVhODM0NTNjNDBlMGFlY2FkLnNldENvbnRlbnQoaHRtbF82ODE0MTliNWZjZmI0ZDAzODI0MTk0YThhOTkwYjdmNSk7CiAgICAgICAgCgogICAgICAgIGNpcmNsZV9tYXJrZXJfMzJlN2E3ZmRlMjY4NDc1ZmEyNTBkZTg4ZjAyMDcwNWEuYmluZFBvcHVwKHBvcHVwXzQzZTcwODZjNzlkZDRmZWVhODM0NTNjNDBlMGFlY2FkKQogICAgICAgIDsKCiAgICAgICAgCiAgICAKICAgIAogICAgICAgICAgICB2YXIgY2lyY2xlX21hcmtlcl85ZTYyZjNlYTU5OTM0N2Q4ODQ3YzFiMTk5YThjZGM1ZCA9IEwuY2lyY2xlTWFya2VyKAogICAgICAgICAgICAgICAgWzIyLjc5ODYxMDMyOTIsIDg2LjE4MDQ3OTA0MjJdLAogICAgICAgICAgICAgICAgeyJidWJibGluZ01vdXNlRXZlbnRzIjogdHJ1ZSwgImNvbG9yIjogInJlZCIsICJkYXNoQXJyYXkiOiBudWxsLCAiZGFzaE9mZnNldCI6IG51bGwsICJmaWxsIjogdHJ1ZSwgImZpbGxDb2xvciI6ICIjY2MzNTM1IiwgImZpbGxPcGFjaXR5IjogMC43LCAiZmlsbFJ1bGUiOiAiZXZlbm9kZCIsICJsaW5lQ2FwIjogInJvdW5kIiwgImxpbmVKb2luIjogInJvdW5kIiwgIm9wYWNpdHkiOiAxLjAsICJyYWRpdXMiOiA1LCAic3Ryb2tlIjogdHJ1ZSwgIndlaWdodCI6IDN9CiAgICAgICAgICAgICkuYWRkVG8obWFwX2RmOTllYmRjY2QyMDRiMmNhMDRkMmNkNjA3NjkwMGUwKTsKICAgICAgICAKICAgIAogICAgICAgIHZhciBwb3B1cF84ZTg1MjkyNzViMzI0ZGQyYTBhZTA2NWU1NmE5NzdjZSA9IEwucG9wdXAoeyJtYXhXaWR0aCI6ICIxMDAlIn0pOwoKICAgICAgICAKICAgICAgICAgICAgdmFyIGh0bWxfYWZlODcyNGE1NzgyNDhlODk5OTllYTZlZGY1NjkxZTUgPSAkKGA8ZGl2IGlkPSJodG1sX2FmZTg3MjRhNTc4MjQ4ZTg5OTk5ZWE2ZWRmNTY5MWU1IiBzdHlsZT0id2lkdGg6IDEwMC4wJTsgaGVpZ2h0OiAxMDAuMCU7Ij5XYXZlIEludGVybmF0aW9uYWwsIEphbmtpIEFwYXJ0bWVudHMsIElubmVyIENpciBSZCwgQ29udHJhY3RvcnMgQXJlYSwgQmlzdHVwdXIsIEphbXNoZWRwdXI8L2Rpdj5gKVswXTsKICAgICAgICAgICAgcG9wdXBfOGU4NTI5Mjc1YjMyNGRkMmEwYWUwNjVlNTZhOTc3Y2Uuc2V0Q29udGVudChodG1sX2FmZTg3MjRhNTc4MjQ4ZTg5OTk5ZWE2ZWRmNTY5MWU1KTsKICAgICAgICAKCiAgICAgICAgY2lyY2xlX21hcmtlcl85ZTYyZjNlYTU5OTM0N2Q4ODQ3YzFiMTk5YThjZGM1ZC5iaW5kUG9wdXAocG9wdXBfOGU4NTI5Mjc1YjMyNGRkMmEwYWUwNjVlNTZhOTc3Y2UpCiAgICAgICAgOwoKICAgICAgICAKICAgIAogICAgCiAgICAgICAgICAgIHZhciBjaXJjbGVfbWFya2VyXzM2ZWUzY2Q5NWE5ZjRkMjU5YTU2OTJjYjVjYzVjMzJkID0gTC5jaXJjbGVNYXJrZXIoCiAgICAgICAgICAgICAgICBbMjIuNzk3NjI4OTkwNywgODYuMTg0MjkwNDYxMl0sCiAgICAgICAgICAgICAgICB7ImJ1YmJsaW5nTW91c2VFdmVudHMiOiB0cnVlLCAiY29sb3IiOiAicmVkIiwgImRhc2hBcnJheSI6IG51bGwsICJkYXNoT2Zmc2V0IjogbnVsbCwgImZpbGwiOiB0cnVlLCAiZmlsbENvbG9yIjogIiNjYzM1MzUiLCAiZmlsbE9wYWNpdHkiOiAwLjcsICJmaWxsUnVsZSI6ICJldmVub2RkIiwgImxpbmVDYXAiOiAicm91bmQiLCAibGluZUpvaW4iOiAicm91bmQiLCAib3BhY2l0eSI6IDEuMCwgInJhZGl1cyI6IDUsICJzdHJva2UiOiB0cnVlLCAid2VpZ2h0IjogM30KICAgICAgICAgICAgKS5hZGRUbyhtYXBfZGY5OWViZGNjZDIwNGIyY2EwNGQyY2Q2MDc2OTAwZTApOwogICAgICAgIAogICAgCiAgICAgICAgdmFyIHBvcHVwXzFhZjVjZGI5ZjQ3NjRmMDU4OTU4ZGRmYTdkZDg3MWFlID0gTC5wb3B1cCh7Im1heFdpZHRoIjogIjEwMCUifSk7CgogICAgICAgIAogICAgICAgICAgICB2YXIgaHRtbF84ZmQxMTlmYjY5YzY0YjZjYTk4YjY5N2FmZjNmMGU3YSA9ICQoYDxkaXYgaWQ9Imh0bWxfOGZkMTE5ZmI2OWM2NGI2Y2E5OGI2OTdhZmYzZjBlN2EiIHN0eWxlPSJ3aWR0aDogMTAwLjAlOyBoZWlnaHQ6IDEwMC4wJTsiPldhdmUgSW50ZXJuYXRpb25hbCwgRCYjMzk7Y29zdGEgTWFuc2lvbiwgNjY5IE1haW4gUm9hZCwgQmlzdHVwdXIsIEphbXNoZWRwdXI8L2Rpdj5gKVswXTsKICAgICAgICAgICAgcG9wdXBfMWFmNWNkYjlmNDc2NGYwNTg5NThkZGZhN2RkODcxYWUuc2V0Q29udGVudChodG1sXzhmZDExOWZiNjljNjRiNmNhOThiNjk3YWZmM2YwZTdhKTsKICAgICAgICAKCiAgICAgICAgY2lyY2xlX21hcmtlcl8zNmVlM2NkOTVhOWY0ZDI1OWE1NjkyY2I1Y2M1YzMyZC5iaW5kUG9wdXAocG9wdXBfMWFmNWNkYjlmNDc2NGYwNTg5NThkZGZhN2RkODcxYWUpCiAgICAgICAgOwoKICAgICAgICAKICAgIAogICAgCiAgICAgICAgICAgIHZhciBjaXJjbGVfbWFya2VyXzRkNjI1YjQxMzFlOTQzMGM4YTkyOWZmZjZjODZiOGNlID0gTC5jaXJjbGVNYXJrZXIoCiAgICAgICAgICAgICAgICBbMjIuNzkxMzksIDg2LjE4MDU2XSwKICAgICAgICAgICAgICAgIHsiYnViYmxpbmdNb3VzZUV2ZW50cyI6IHRydWUsICJjb2xvciI6ICJyZWQiLCAiZGFzaEFycmF5IjogbnVsbCwgImRhc2hPZmZzZXQiOiBudWxsLCAiZmlsbCI6IHRydWUsICJmaWxsQ29sb3IiOiAiI2NjMzUzNSIsICJmaWxsT3BhY2l0eSI6IDAuNywgImZpbGxSdWxlIjogImV2ZW5vZGQiLCAibGluZUNhcCI6ICJyb3VuZCIsICJsaW5lSm9pbiI6ICJyb3VuZCIsICJvcGFjaXR5IjogMS4wLCAicmFkaXVzIjogNSwgInN0cm9rZSI6IHRydWUsICJ3ZWlnaHQiOiAzfQogICAgICAgICAgICApLmFkZFRvKG1hcF9kZjk5ZWJkY2NkMjA0YjJjYTA0ZDJjZDYwNzY5MDBlMCk7CiAgICAgICAgCiAgICAKICAgICAgICB2YXIgcG9wdXBfZjE2MTI5Yjc2ODUzNDA3NDk2NzMwOWYwZmRhNWI5YmUgPSBMLnBvcHVwKHsibWF4V2lkdGgiOiAiMTAwJSJ9KTsKCiAgICAgICAgCiAgICAgICAgICAgIHZhciBodG1sXzkxMDg1OGRhOWIxZDQ0Y2JiNTI1NmY1ZDA1NTI5YzIxID0gJChgPGRpdiBpZD0iaHRtbF85MTA4NThkYTliMWQ0NGNiYjUyNTZmNWQwNTUyOWMyMSIgc3R5bGU9IndpZHRoOiAxMDAuMCU7IGhlaWdodDogMTAwLjAlOyI+V2F2ZSBJbnRlcm5hdGlvbmFsLCBSb3NoYW4gVG93ZXIsIEJlc2lkZSBTYWNoZGV2IEN5Y2xlIE1hcnQsIEJpc3R1cHVyIE1haW4gUm9hZCwgQmlzdHVwdXIsIEphbXNoZWRwdXI8L2Rpdj5gKVswXTsKICAgICAgICAgICAgcG9wdXBfZjE2MTI5Yjc2ODUzNDA3NDk2NzMwOWYwZmRhNWI5YmUuc2V0Q29udGVudChodG1sXzkxMDg1OGRhOWIxZDQ0Y2JiNTI1NmY1ZDA1NTI5YzIxKTsKICAgICAgICAKCiAgICAgICAgY2lyY2xlX21hcmtlcl80ZDYyNWI0MTMxZTk0MzBjOGE5MjlmZmY2Yzg2YjhjZS5iaW5kUG9wdXAocG9wdXBfZjE2MTI5Yjc2ODUzNDA3NDk2NzMwOWYwZmRhNWI5YmUpCiAgICAgICAgOwoKICAgICAgICAKICAgIAogICAgCiAgICAgICAgICAgIHZhciBjaXJjbGVfbWFya2VyXzI3NjQyYzE3ZmNlMTRkMTU5YzVlYzQyZjRmZmJkYzgxID0gTC5jaXJjbGVNYXJrZXIoCiAgICAgICAgICAgICAgICBbMjIuNzk4NDc2MTg3NiwgODYuMTc5NzI0NjcwOV0sCiAgICAgICAgICAgICAgICB7ImJ1YmJsaW5nTW91c2VFdmVudHMiOiB0cnVlLCAiY29sb3IiOiAicmVkIiwgImRhc2hBcnJheSI6IG51bGwsICJkYXNoT2Zmc2V0IjogbnVsbCwgImZpbGwiOiB0cnVlLCAiZmlsbENvbG9yIjogIiNjYzM1MzUiLCAiZmlsbE9wYWNpdHkiOiAwLjcsICJmaWxsUnVsZSI6ICJldmVub2RkIiwgImxpbmVDYXAiOiAicm91bmQiLCAibGluZUpvaW4iOiAicm91bmQiLCAib3BhY2l0eSI6IDEuMCwgInJhZGl1cyI6IDUsICJzdHJva2UiOiB0cnVlLCAid2VpZ2h0IjogM30KICAgICAgICAgICAgKS5hZGRUbyhtYXBfZGY5OWViZGNjZDIwNGIyY2EwNGQyY2Q2MDc2OTAwZTApOwogICAgICAgIAogICAgCiAgICAgICAgdmFyIHBvcHVwXzc2NWQ5ZTU2ZmNkMzRkZTdiMzk3NzFkOTY5NmM3NzU0ID0gTC5wb3B1cCh7Im1heFdpZHRoIjogIjEwMCUifSk7CgogICAgICAgIAogICAgICAgICAgICB2YXIgaHRtbF8xMDcyMTI1MTE4Mjc0NzI2YjZjYjc4OWI2ZmY4Yzg2ZiA9ICQoYDxkaXYgaWQ9Imh0bWxfMTA3MjEyNTExODI3NDcyNmI2Y2I3ODliNmZmOGM4NmYiIHN0eWxlPSJ3aWR0aDogMTAwLjAlOyBoZWlnaHQ6IDEwMC4wJTsiPldhdmUgSW50ZXJuYXRpb25hbCwgQ29udHJhY3RvcnMgQXJlYSwgTmVhciBUaGUgU29ubmV0IEhvdGVsLCBCaXN0dXB1ciwgSmFtc2hlZHB1cjwvZGl2PmApWzBdOwogICAgICAgICAgICBwb3B1cF83NjVkOWU1NmZjZDM0ZGU3YjM5NzcxZDk2OTZjNzc1NC5zZXRDb250ZW50KGh0bWxfMTA3MjEyNTExODI3NDcyNmI2Y2I3ODliNmZmOGM4NmYpOwogICAgICAgIAoKICAgICAgICBjaXJjbGVfbWFya2VyXzI3NjQyYzE3ZmNlMTRkMTU5YzVlYzQyZjRmZmJkYzgxLmJpbmRQb3B1cChwb3B1cF83NjVkOWU1NmZjZDM0ZGU3YjM5NzcxZDk2OTZjNzc1NCkKICAgICAgICA7CgogICAgICAgIAogICAgCiAgICAKICAgICAgICAgICAgdmFyIGNpcmNsZV9tYXJrZXJfMWY2NDllYjM3YzAzNGRlOGE3MDJjNTkyNjE2NjBiNTkgPSBMLmNpcmNsZU1hcmtlcigKICAgICAgICAgICAgICAgIFsyMi43OTgxNjg5NTk2LCA4Ni4xNzk2NTg5NTY4XSwKICAgICAgICAgICAgICAgIHsiYnViYmxpbmdNb3VzZUV2ZW50cyI6IHRydWUsICJjb2xvciI6ICJyZWQiLCAiZGFzaEFycmF5IjogbnVsbCwgImRhc2hPZmZzZXQiOiBudWxsLCAiZmlsbCI6IHRydWUsICJmaWxsQ29sb3IiOiAiI2NjMzUzNSIsICJmaWxsT3BhY2l0eSI6IDAuNywgImZpbGxSdWxlIjogImV2ZW5vZGQiLCAibGluZUNhcCI6ICJyb3VuZCIsICJsaW5lSm9pbiI6ICJyb3VuZCIsICJvcGFjaXR5IjogMS4wLCAicmFkaXVzIjogNSwgInN0cm9rZSI6IHRydWUsICJ3ZWlnaHQiOiAzfQogICAgICAgICAgICApLmFkZFRvKG1hcF9kZjk5ZWJkY2NkMjA0YjJjYTA0ZDJjZDYwNzY5MDBlMCk7CiAgICAgICAgCiAgICAKICAgICAgICB2YXIgcG9wdXBfODQ0YWFjMzkyMzc1NGZlOTg0YmM2NjJhMGI1ZjcyODEgPSBMLnBvcHVwKHsibWF4V2lkdGgiOiAiMTAwJSJ9KTsKCiAgICAgICAgCiAgICAgICAgICAgIHZhciBodG1sX2QyZDBmN2EzNWY1YTRiNjk4YWM2NDdlZjMwZDk3ZDAyID0gJChgPGRpdiBpZD0iaHRtbF9kMmQwZjdhMzVmNWE0YjY5OGFjNjQ3ZWYzMGQ5N2QwMiIgc3R5bGU9IndpZHRoOiAxMDAuMCU7IGhlaWdodDogMTAwLjAlOyI+V2F2ZSBJbnRlcm5hdGlvbmFsLCBDb250cmFjdG9ycyBBcmVhLCBOZWFyIFRoZSBTb25uZXQgSG90ZWwsIEJpc3R1cHVyLCBKYW1zaGVkcHVyPC9kaXY+YClbMF07CiAgICAgICAgICAgIHBvcHVwXzg0NGFhYzM5MjM3NTRmZTk4NGJjNjYyYTBiNWY3MjgxLnNldENvbnRlbnQoaHRtbF9kMmQwZjdhMzVmNWE0YjY5OGFjNjQ3ZWYzMGQ5N2QwMik7CiAgICAgICAgCgogICAgICAgIGNpcmNsZV9tYXJrZXJfMWY2NDllYjM3YzAzNGRlOGE3MDJjNTkyNjE2NjBiNTkuYmluZFBvcHVwKHBvcHVwXzg0NGFhYzM5MjM3NTRmZTk4NGJjNjYyYTBiNWY3MjgxKQogICAgICAgIDsKCiAgICAgICAgCiAgICAKICAgIAogICAgICAgICAgICB2YXIgY2lyY2xlX21hcmtlcl85NTRiOGQyZmNlZjE0YWQ0OGIyYzEwMzU5ZTBkOWJjOSA9IEwuY2lyY2xlTWFya2VyKAogICAgICAgICAgICAgICAgWzIyLjg0MzE1LCA4Ni4yMTMyNDldLAogICAgICAgICAgICAgICAgeyJidWJibGluZ01vdXNlRXZlbnRzIjogdHJ1ZSwgImNvbG9yIjogInJlZCIsICJkYXNoQXJyYXkiOiBudWxsLCAiZGFzaE9mZnNldCI6IG51bGwsICJmaWxsIjogdHJ1ZSwgImZpbGxDb2xvciI6ICIjY2MzNTM1IiwgImZpbGxPcGFjaXR5IjogMC43LCAiZmlsbFJ1bGUiOiAiZXZlbm9kZCIsICJsaW5lQ2FwIjogInJvdW5kIiwgImxpbmVKb2luIjogInJvdW5kIiwgIm9wYWNpdHkiOiAxLjAsICJyYWRpdXMiOiA1LCAic3Ryb2tlIjogdHJ1ZSwgIndlaWdodCI6IDN9CiAgICAgICAgICAgICkuYWRkVG8obWFwX2RmOTllYmRjY2QyMDRiMmNhMDRkMmNkNjA3NjkwMGUwKTsKICAgICAgICAKICAgIAogICAgICAgIHZhciBwb3B1cF8xODgwNTU2ZTFhMDQ0OTQ0YjZjYTE5NWRlYjliMGE3NiA9IEwucG9wdXAoeyJtYXhXaWR0aCI6ICIxMDAlIn0pOwoKICAgICAgICAKICAgICAgICAgICAgdmFyIGh0bWxfOWQ1YmE4MmUxNjY5NDEyY2JjNDE3NmY5NDU4M2E2ODUgPSAkKGA8ZGl2IGlkPSJodG1sXzlkNWJhODJlMTY2OTQxMmNiYzQxNzZmOTQ1ODNhNjg1IiBzdHlsZT0id2lkdGg6IDEwMC4wJTsgaGVpZ2h0OiAxMDAuMCU7Ij5XYXZlIEludGVybmF0aW9uYWwsIEdhbWEgLSBDLzcyMSBTYWhhcmEgQ2l0eSwgUm9hZCBOby0gMTUgTWFuZ28sIE5lYXIgQi5TLk4uTCBUZWxlcGhvbmUgRXhjaGFuZ2U8L2Rpdj5gKVswXTsKICAgICAgICAgICAgcG9wdXBfMTg4MDU1NmUxYTA0NDk0NGI2Y2ExOTVkZWI5YjBhNzYuc2V0Q29udGVudChodG1sXzlkNWJhODJlMTY2OTQxMmNiYzQxNzZmOTQ1ODNhNjg1KTsKICAgICAgICAKCiAgICAgICAgY2lyY2xlX21hcmtlcl85NTRiOGQyZmNlZjE0YWQ0OGIyYzEwMzU5ZTBkOWJjOS5iaW5kUG9wdXAocG9wdXBfMTg4MDU1NmUxYTA0NDk0NGI2Y2ExOTVkZWI5YjBhNzYpCiAgICAgICAgOwoKICAgICAgICAKICAgIAogICAgCiAgICAgICAgICAgIHZhciBjaXJjbGVfbWFya2VyXzQ5NDMxYWZlYjM4ZjQzNTU5MDdlNGYyMTRiNDAzNzZiID0gTC5jaXJjbGVNYXJrZXIoCiAgICAgICAgICAgICAgICBbMjIuNzk1MDY2OTY4NywgODYuMTgzOTMyMDUxMV0sCiAgICAgICAgICAgICAgICB7ImJ1YmJsaW5nTW91c2VFdmVudHMiOiB0cnVlLCAiY29sb3IiOiAicmVkIiwgImRhc2hBcnJheSI6IG51bGwsICJkYXNoT2Zmc2V0IjogbnVsbCwgImZpbGwiOiB0cnVlLCAiZmlsbENvbG9yIjogIiNjYzM1MzUiLCAiZmlsbE9wYWNpdHkiOiAwLjcsICJmaWxsUnVsZSI6ICJldmVub2RkIiwgImxpbmVDYXAiOiAicm91bmQiLCAibGluZUpvaW4iOiAicm91bmQiLCAib3BhY2l0eSI6IDEuMCwgInJhZGl1cyI6IDUsICJzdHJva2UiOiB0cnVlLCAid2VpZ2h0IjogM30KICAgICAgICAgICAgKS5hZGRUbyhtYXBfZGY5OWViZGNjZDIwNGIyY2EwNGQyY2Q2MDc2OTAwZTApOwogICAgICAgIAogICAgCiAgICAgICAgdmFyIHBvcHVwX2QyYmNmOTVkMjc0YTQwODZhMGY5MjliYjk2ZmIwOTk2ID0gTC5wb3B1cCh7Im1heFdpZHRoIjogIjEwMCUifSk7CgogICAgICAgIAogICAgICAgICAgICB2YXIgaHRtbF83OTIxZjYyNjg4ZDg0MDc3OWM5N2IyNTY0YmU0MTdiMyA9ICQoYDxkaXYgaWQ9Imh0bWxfNzkyMWY2MjY4OGQ4NDA3NzljOTdiMjU2NGJlNDE3YjMiIHN0eWxlPSJ3aWR0aDogMTAwLjAlOyBoZWlnaHQ6IDEwMC4wJTsiPldhdmUgSW50ZXJuYXRpb25hbCwgTmF0cmFqIE1hbnNpb24gTWFpbiBSb2FkIEJpc3R1cHVyPC9kaXY+YClbMF07CiAgICAgICAgICAgIHBvcHVwX2QyYmNmOTVkMjc0YTQwODZhMGY5MjliYjk2ZmIwOTk2LnNldENvbnRlbnQoaHRtbF83OTIxZjYyNjg4ZDg0MDc3OWM5N2IyNTY0YmU0MTdiMyk7CiAgICAgICAgCgogICAgICAgIGNpcmNsZV9tYXJrZXJfNDk0MzFhZmViMzhmNDM1NTkwN2U0ZjIxNGI0MDM3NmIuYmluZFBvcHVwKHBvcHVwX2QyYmNmOTVkMjc0YTQwODZhMGY5MjliYjk2ZmIwOTk2KQogICAgICAgIDsKCiAgICAgICAgCiAgICAKICAgIAogICAgICAgICAgICB2YXIgY2lyY2xlX21hcmtlcl80NzkzOGNmYTk0ZjU0YjYyODY2OTIwOThlNjU5N2JmMSA9IEwuY2lyY2xlTWFya2VyKAogICAgICAgICAgICAgICAgWzIyLjc5ODQ2ODc2OTYsIDg2LjE3OTc4MDY2MjFdLAogICAgICAgICAgICAgICAgeyJidWJibGluZ01vdXNlRXZlbnRzIjogdHJ1ZSwgImNvbG9yIjogInJlZCIsICJkYXNoQXJyYXkiOiBudWxsLCAiZGFzaE9mZnNldCI6IG51bGwsICJmaWxsIjogdHJ1ZSwgImZpbGxDb2xvciI6ICIjY2MzNTM1IiwgImZpbGxPcGFjaXR5IjogMC43LCAiZmlsbFJ1bGUiOiAiZXZlbm9kZCIsICJsaW5lQ2FwIjogInJvdW5kIiwgImxpbmVKb2luIjogInJvdW5kIiwgIm9wYWNpdHkiOiAxLjAsICJyYWRpdXMiOiA1LCAic3Ryb2tlIjogdHJ1ZSwgIndlaWdodCI6IDN9CiAgICAgICAgICAgICkuYWRkVG8obWFwX2RmOTllYmRjY2QyMDRiMmNhMDRkMmNkNjA3NjkwMGUwKTsKICAgICAgICAKICAgIAogICAgICAgIHZhciBwb3B1cF8xZTQ2ZjU5NDM1MTM0NzJmYjJkYjBiMTlhYTFkNTc0MSA9IEwucG9wdXAoeyJtYXhXaWR0aCI6ICIxMDAlIn0pOwoKICAgICAgICAKICAgICAgICAgICAgdmFyIGh0bWxfY2Q3YzgxNjQ0ZTU5NDA2M2JjN2JlMjUxNTUzZTRlZWMgPSAkKGA8ZGl2IGlkPSJodG1sX2NkN2M4MTY0NGU1OTQwNjNiYzdiZTI1MTU1M2U0ZWVjIiBzdHlsZT0id2lkdGg6IDEwMC4wJTsgaGVpZ2h0OiAxMDAuMCU7Ij5XYXZlIEludGVybmF0aW9uYWwsIENvbnRyYWN0b3JzIEFyZWEgUmQgMiwgQ29udHJhY3RvcnMgQXJlYSwgQmlzdHVwdXIsIEphbXNoZWRwdXI8L2Rpdj5gKVswXTsKICAgICAgICAgICAgcG9wdXBfMWU0NmY1OTQzNTEzNDcyZmIyZGIwYjE5YWExZDU3NDEuc2V0Q29udGVudChodG1sX2NkN2M4MTY0NGU1OTQwNjNiYzdiZTI1MTU1M2U0ZWVjKTsKICAgICAgICAKCiAgICAgICAgY2lyY2xlX21hcmtlcl80NzkzOGNmYTk0ZjU0YjYyODY2OTIwOThlNjU5N2JmMS5iaW5kUG9wdXAocG9wdXBfMWU0NmY1OTQzNTEzNDcyZmIyZGIwYjE5YWExZDU3NDEpCiAgICAgICAgOwoKICAgICAgICAKICAgIAogICAgCiAgICAgICAgICAgIHZhciBjaXJjbGVfbWFya2VyX2E2MWZiOGM0YWM5ZjQ2ZmJhNDM3YmMwMGEyZDI1ZWRkID0gTC5jaXJjbGVNYXJrZXIoCiAgICAgICAgICAgICAgICBbMjIuNzcyMTUyODI4NCwgODYuMjM5MjEyMDQzNl0sCiAgICAgICAgICAgICAgICB7ImJ1YmJsaW5nTW91c2VFdmVudHMiOiB0cnVlLCAiY29sb3IiOiAicmVkIiwgImRhc2hBcnJheSI6IG51bGwsICJkYXNoT2Zmc2V0IjogbnVsbCwgImZpbGwiOiB0cnVlLCAiZmlsbENvbG9yIjogIiNjYzM1MzUiLCAiZmlsbE9wYWNpdHkiOiAwLjcsICJmaWxsUnVsZSI6ICJldmVub2RkIiwgImxpbmVDYXAiOiAicm91bmQiLCAibGluZUpvaW4iOiAicm91bmQiLCAib3BhY2l0eSI6IDEuMCwgInJhZGl1cyI6IDUsICJzdHJva2UiOiB0cnVlLCAid2VpZ2h0IjogM30KICAgICAgICAgICAgKS5hZGRUbyhtYXBfZGY5OWViZGNjZDIwNGIyY2EwNGQyY2Q2MDc2OTAwZTApOwogICAgICAgIAogICAgCiAgICAgICAgdmFyIHBvcHVwX2NlOTE2ZTYxMDI3NzQyMDFhZmQxZWQ2NzBjMTA1M2RiID0gTC5wb3B1cCh7Im1heFdpZHRoIjogIjEwMCUifSk7CgogICAgICAgIAogICAgICAgICAgICB2YXIgaHRtbF9lM2RkNmI0YjdkNzQ0MThkYTJkYjhjMDY5ZDhiYjk5ZSA9ICQoYDxkaXYgaWQ9Imh0bWxfZTNkZDZiNGI3ZDc0NDE4ZGEyZGI4YzA2OWQ4YmI5OWUiIHN0eWxlPSJ3aWR0aDogMTAwLjAlOyBoZWlnaHQ6IDEwMC4wJTsiPldhdmUgSW50ZXJuYXRpb25hbCwgU2hvcCBOby4gODEsIEIgQXphZCBNYXJrZXQsIFRlbGNvPC9kaXY+YClbMF07CiAgICAgICAgICAgIHBvcHVwX2NlOTE2ZTYxMDI3NzQyMDFhZmQxZWQ2NzBjMTA1M2RiLnNldENvbnRlbnQoaHRtbF9lM2RkNmI0YjdkNzQ0MThkYTJkYjhjMDY5ZDhiYjk5ZSk7CiAgICAgICAgCgogICAgICAgIGNpcmNsZV9tYXJrZXJfYTYxZmI4YzRhYzlmNDZmYmE0MzdiYzAwYTJkMjVlZGQuYmluZFBvcHVwKHBvcHVwX2NlOTE2ZTYxMDI3NzQyMDFhZmQxZWQ2NzBjMTA1M2RiKQogICAgICAgIDsKCiAgICAgICAgCiAgICAKICAgIAogICAgICAgICAgICB2YXIgY2lyY2xlX21hcmtlcl84YWE0ZDc3MjU2MDQ0NzM0ODQyZTEwODQzMGNjZGU3NCA9IEwuY2lyY2xlTWFya2VyKAogICAgICAgICAgICAgICAgWzIyLjc5ODc3NiwgODYuMTc5NTQ2XSwKICAgICAgICAgICAgICAgIHsiYnViYmxpbmdNb3VzZUV2ZW50cyI6IHRydWUsICJjb2xvciI6ICJyZWQiLCAiZGFzaEFycmF5IjogbnVsbCwgImRhc2hPZmZzZXQiOiBudWxsLCAiZmlsbCI6IHRydWUsICJmaWxsQ29sb3IiOiAiI2NjMzUzNSIsICJmaWxsT3BhY2l0eSI6IDAuNywgImZpbGxSdWxlIjogImV2ZW5vZGQiLCAibGluZUNhcCI6ICJyb3VuZCIsICJsaW5lSm9pbiI6ICJyb3VuZCIsICJvcGFjaXR5IjogMS4wLCAicmFkaXVzIjogNSwgInN0cm9rZSI6IHRydWUsICJ3ZWlnaHQiOiAzfQogICAgICAgICAgICApLmFkZFRvKG1hcF9kZjk5ZWJkY2NkMjA0YjJjYTA0ZDJjZDYwNzY5MDBlMCk7CiAgICAgICAgCiAgICAKICAgICAgICB2YXIgcG9wdXBfY2FmMjI0OTNjYTdlNDdmOGJmODY2Y2M2ZjI5NDU4YzAgPSBMLnBvcHVwKHsibWF4V2lkdGgiOiAiMTAwJSJ9KTsKCiAgICAgICAgCiAgICAgICAgICAgIHZhciBodG1sX2I4Y2IzYzY3OWE4ZDQ0N2E5OTY4ZGE2YzNiY2UwYzEyID0gJChgPGRpdiBpZD0iaHRtbF9iOGNiM2M2NzlhOGQ0NDdhOTk2OGRhNmMzYmNlMGMxMiIgc3R5bGU9IndpZHRoOiAxMDAuMCU7IGhlaWdodDogMTAwLjAlOyI+V2F2ZSBJbnRlcm5hdGlvbmFsLCBJbm5lciBDaXJjbGUgUm9hZCwgQ29udHJhY3RvcnMgQXJlYSwgQmlzdHVwdXIsIFAuTy4gJmFtcDsgUC5TLiBCaXN0dXB1ciwgSmFtc2hlZHB1cjwvZGl2PmApWzBdOwogICAgICAgICAgICBwb3B1cF9jYWYyMjQ5M2NhN2U0N2Y4YmY4NjZjYzZmMjk0NThjMC5zZXRDb250ZW50KGh0bWxfYjhjYjNjNjc5YThkNDQ3YTk5NjhkYTZjM2JjZTBjMTIpOwogICAgICAgIAoKICAgICAgICBjaXJjbGVfbWFya2VyXzhhYTRkNzcyNTYwNDQ3MzQ4NDJlMTA4NDMwY2NkZTc0LmJpbmRQb3B1cChwb3B1cF9jYWYyMjQ5M2NhN2U0N2Y4YmY4NjZjYzZmMjk0NThjMCkKICAgICAgICA7CgogICAgICAgIAogICAgCiAgICAKICAgICAgICAgICAgdmFyIGNpcmNsZV9tYXJrZXJfZThhZjE3ZjNiYzU0NGU3OTkzMWVmNmFmZWI2NGQxZGUgPSBMLmNpcmNsZU1hcmtlcigKICAgICAgICAgICAgICAgIFsyMi44NDA4ODUsIDg2LjIyOTg2NF0sCiAgICAgICAgICAgICAgICB7ImJ1YmJsaW5nTW91c2VFdmVudHMiOiB0cnVlLCAiY29sb3IiOiAicmVkIiwgImRhc2hBcnJheSI6IG51bGwsICJkYXNoT2Zmc2V0IjogbnVsbCwgImZpbGwiOiB0cnVlLCAiZmlsbENvbG9yIjogIiNjYzM1MzUiLCAiZmlsbE9wYWNpdHkiOiAwLjcsICJmaWxsUnVsZSI6ICJldmVub2RkIiwgImxpbmVDYXAiOiAicm91bmQiLCAibGluZUpvaW4iOiAicm91bmQiLCAib3BhY2l0eSI6IDEuMCwgInJhZGl1cyI6IDUsICJzdHJva2UiOiB0cnVlLCAid2VpZ2h0IjogM30KICAgICAgICAgICAgKS5hZGRUbyhtYXBfZGY5OWViZGNjZDIwNGIyY2EwNGQyY2Q2MDc2OTAwZTApOwogICAgICAgIAogICAgCiAgICAgICAgdmFyIHBvcHVwX2VkODA4MTkyYzBiYTQ4ZjFiNTE5YTVjYjk2NjVhZmQ3ID0gTC5wb3B1cCh7Im1heFdpZHRoIjogIjEwMCUifSk7CgogICAgICAgIAogICAgICAgICAgICB2YXIgaHRtbF8zZThmM2E1ZTkzNTc0Y2Q3OWUzZjg3NzhhZjczNzEyZSA9ICQoYDxkaXYgaWQ9Imh0bWxfM2U4ZjNhNWU5MzU3NGNkNzllM2Y4Nzc4YWY3MzcxMmUiIHN0eWxlPSJ3aWR0aDogMTAwLjAlOyBoZWlnaHQ6IDEwMC4wJTsiPldhdmUgSW50ZXJuYXRpb25hbCwgUm9hZCAxLCBIaWxsIFZpZXcgQ29sb255LCBPcHBvc2l0ZSBBc2hpeWFuYSBFbmNsYXZlQy9PIEhvdGVsIEwgTiBJbnRlcm5hdGlvbmFsLCBIaWxsIFZpZXcgQ29sb255LCBSb2FkIDMsIERpbW5hIFJvYWQsIE1hbmdvLCBKYW1zaGVkcHVyPC9kaXY+YClbMF07CiAgICAgICAgICAgIHBvcHVwX2VkODA4MTkyYzBiYTQ4ZjFiNTE5YTVjYjk2NjVhZmQ3LnNldENvbnRlbnQoaHRtbF8zZThmM2E1ZTkzNTc0Y2Q3OWUzZjg3NzhhZjczNzEyZSk7CiAgICAgICAgCgogICAgICAgIGNpcmNsZV9tYXJrZXJfZThhZjE3ZjNiYzU0NGU3OTkzMWVmNmFmZWI2NGQxZGUuYmluZFBvcHVwKHBvcHVwX2VkODA4MTkyYzBiYTQ4ZjFiNTE5YTVjYjk2NjVhZmQ3KQogICAgICAgIDsKCiAgICAgICAgCiAgICAKPC9zY3JpcHQ+ onload=\"this.contentDocument.open();this.contentDocument.write(atob(this.getAttribute('data-html')));this.contentDocument.close();\" allowfullscreen webkitallowfullscreen mozallowfullscreen></iframe></div></div>"
      ],
      "text/plain": [
       "<folium.folium.Map at 0x221ed3d31d0>"
      ]
     },
     "execution_count": 26,
     "metadata": {},
     "output_type": "execute_result"
    }
   ],
   "source": [
    "jsr_zomato = folium.Map(location = [jsr_lat, jsr_long], zoom_start = 13)\n",
    "\n",
    "for venue, address, latitude, longitude in zip(zomato_venues['venue'], zomato_venues['address'], \n",
    "                                               zomato_venues['latitude'], zomato_venues['longitude']):\n",
    "    label = '{}, {}'.format(name, address)\n",
    "    label = folium.Popup(label, parse_html = True)\n",
    "    folium.CircleMarker(\n",
    "        [latitude, longitude],\n",
    "        radius = 5,\n",
    "        popup = label,\n",
    "        color = 'red',\n",
    "        fill = True,\n",
    "        fill_color = '#cc3535',\n",
    "        fill_opacity = 0.7,\n",
    "        parse_html = False).add_to(jsr_zomato)  \n",
    "\n",
    "jsr_zomato.save(\"Venues by Zomato.html\")\n",
    "jsr_zomato"
   ]
  },
  {
   "cell_type": "markdown",
   "metadata": {},
   "source": [
    "___"
   ]
  },
  {
   "cell_type": "markdown",
   "metadata": {},
   "source": [
    "We can see that there are many venues identified by both Foursquare and Zomato."
   ]
  },
  {
   "cell_type": "markdown",
   "metadata": {},
   "source": [
    "To combine the two datasets, I'll have to check that the latitude and longitude values of each corresponding venue match. Thus, I'll round both the latitude and longitude values upto 4 decimal places. Then, I'll calculate the difference between the corresponding latitude and longitude values and see if the difference is less than 0.0004 which should ideally mean that the two locations are same."
   ]
  },
  {
   "cell_type": "code",
   "execution_count": 27,
   "metadata": {},
   "outputs": [],
   "source": [
    "foursquare_venues['lat'] = foursquare_venues['lat'].apply(lambda lat: round(float(lat), 4))\n",
    "foursquare_venues['lng'] = foursquare_venues['lng'].apply(lambda lng: round(float(lng), 4))\n",
    "zomato_venues['latitude'] = zomato_venues['latitude'].apply(lambda lat: round(float(lat), 4))\n",
    "zomato_venues['longitude'] = zomato_venues['longitude'].apply(lambda lng: round(float(lng), 4))"
   ]
  },
  {
   "cell_type": "code",
   "execution_count": 28,
   "metadata": {},
   "outputs": [],
   "source": [
    "dataset = pd.concat([foursquare_venues, zomato_venues], axis = 1)\n",
    "dataset['lat_diff'] = dataset['latitude'] - dataset['lat']\n",
    "dataset['lng_diff'] = dataset['longitude'] - dataset['lng']"
   ]
  },
  {
   "cell_type": "code",
   "execution_count": 29,
   "metadata": {},
   "outputs": [
    {
     "data": {
      "text/html": [
       "<div>\n",
       "<style scoped>\n",
       "    .dataframe tbody tr th:only-of-type {\n",
       "        vertical-align: middle;\n",
       "    }\n",
       "\n",
       "    .dataframe tbody tr th {\n",
       "        vertical-align: top;\n",
       "    }\n",
       "\n",
       "    .dataframe thead th {\n",
       "        text-align: right;\n",
       "    }\n",
       "</style>\n",
       "<table border=\"1\" class=\"dataframe\">\n",
       "  <thead>\n",
       "    <tr style=\"text-align: right;\">\n",
       "      <th></th>\n",
       "      <th>name</th>\n",
       "      <th>categories</th>\n",
       "      <th>lat</th>\n",
       "      <th>lng</th>\n",
       "      <th>venue</th>\n",
       "      <th>latitude</th>\n",
       "      <th>longitude</th>\n",
       "      <th>price_for_two</th>\n",
       "      <th>price_range</th>\n",
       "      <th>rating</th>\n",
       "      <th>address</th>\n",
       "      <th>lat_diff</th>\n",
       "      <th>lng_diff</th>\n",
       "    </tr>\n",
       "  </thead>\n",
       "  <tbody>\n",
       "    <tr>\n",
       "      <th>0</th>\n",
       "      <td>Brubeck</td>\n",
       "      <td>Bakery</td>\n",
       "      <td>22.7976</td>\n",
       "      <td>86.1842</td>\n",
       "      <td>Brubeck Bakery</td>\n",
       "      <td>22.7978</td>\n",
       "      <td>86.1843</td>\n",
       "      <td>450</td>\n",
       "      <td>2</td>\n",
       "      <td>4.5</td>\n",
       "      <td>Dcosta Mansion, Main Road, Bistupur, Jamshedpur</td>\n",
       "      <td>0.0002</td>\n",
       "      <td>0.0001</td>\n",
       "    </tr>\n",
       "    <tr>\n",
       "      <th>1</th>\n",
       "      <td>The Alcor Hotel</td>\n",
       "      <td>Hotel</td>\n",
       "      <td>22.7939</td>\n",
       "      <td>86.1764</td>\n",
       "      <td>Jampot</td>\n",
       "      <td>22.7942</td>\n",
       "      <td>86.1761</td>\n",
       "      <td>1600</td>\n",
       "      <td>4</td>\n",
       "      <td>3.7</td>\n",
       "      <td>Hotel Ramada, Holding 3, Bistupur</td>\n",
       "      <td>0.0003</td>\n",
       "      <td>-0.0003</td>\n",
       "    </tr>\n",
       "    <tr>\n",
       "      <th>2</th>\n",
       "      <td>Cafe Coffee Day</td>\n",
       "      <td>Café</td>\n",
       "      <td>22.7976</td>\n",
       "      <td>86.1841</td>\n",
       "      <td>Cafe Coffee Day</td>\n",
       "      <td>22.7976</td>\n",
       "      <td>86.1843</td>\n",
       "      <td>650</td>\n",
       "      <td>2</td>\n",
       "      <td>3.3</td>\n",
       "      <td>D'costa Mansion, 669 Main Road, Bistupur, Jams...</td>\n",
       "      <td>0.0000</td>\n",
       "      <td>0.0002</td>\n",
       "    </tr>\n",
       "    <tr>\n",
       "      <th>3</th>\n",
       "      <td>Domino's Pizza</td>\n",
       "      <td>Pizza Place</td>\n",
       "      <td>22.7910</td>\n",
       "      <td>86.1810</td>\n",
       "      <td>Domino's Pizza</td>\n",
       "      <td>22.7914</td>\n",
       "      <td>86.1806</td>\n",
       "      <td>400</td>\n",
       "      <td>2</td>\n",
       "      <td>4.4</td>\n",
       "      <td>Roshan Tower, Beside Sachdev Cycle Mart, Bistu...</td>\n",
       "      <td>0.0004</td>\n",
       "      <td>-0.0004</td>\n",
       "    </tr>\n",
       "    <tr>\n",
       "      <th>4</th>\n",
       "      <td>Hotel sonnet</td>\n",
       "      <td>Hotel</td>\n",
       "      <td>22.7985</td>\n",
       "      <td>86.1794</td>\n",
       "      <td>The Chocolate Room</td>\n",
       "      <td>22.7985</td>\n",
       "      <td>86.1797</td>\n",
       "      <td>600</td>\n",
       "      <td>2</td>\n",
       "      <td>4.4</td>\n",
       "      <td>Contractors Area, Near The Sonnet Hotel, Bistu...</td>\n",
       "      <td>0.0000</td>\n",
       "      <td>0.0003</td>\n",
       "    </tr>\n",
       "    <tr>\n",
       "      <th>5</th>\n",
       "      <td>Dosa king</td>\n",
       "      <td>Indian Restaurant</td>\n",
       "      <td>22.7983</td>\n",
       "      <td>86.1793</td>\n",
       "      <td>Dosa King</td>\n",
       "      <td>22.7982</td>\n",
       "      <td>86.1797</td>\n",
       "      <td>500</td>\n",
       "      <td>2</td>\n",
       "      <td>3.9</td>\n",
       "      <td>Contractors Area, Near The Sonnet Hotel, Bistu...</td>\n",
       "      <td>-0.0001</td>\n",
       "      <td>0.0004</td>\n",
       "    </tr>\n",
       "    <tr>\n",
       "      <th>6</th>\n",
       "      <td>Bistupur</td>\n",
       "      <td>Market</td>\n",
       "      <td>22.7952</td>\n",
       "      <td>86.1840</td>\n",
       "      <td>Spice Zone</td>\n",
       "      <td>22.7951</td>\n",
       "      <td>86.1839</td>\n",
       "      <td>1000</td>\n",
       "      <td>3</td>\n",
       "      <td>3.9</td>\n",
       "      <td>Natraj Mansion Main Road Bistupur</td>\n",
       "      <td>-0.0001</td>\n",
       "      <td>-0.0001</td>\n",
       "    </tr>\n",
       "    <tr>\n",
       "      <th>7</th>\n",
       "      <td>The Sonnet Hotel Jamshedpur</td>\n",
       "      <td>Hotel</td>\n",
       "      <td>22.7987</td>\n",
       "      <td>86.1796</td>\n",
       "      <td>Sugar Works</td>\n",
       "      <td>22.7988</td>\n",
       "      <td>86.1795</td>\n",
       "      <td>500</td>\n",
       "      <td>2</td>\n",
       "      <td>3.9</td>\n",
       "      <td>Inner Circle Road, Contractors Area, Bistupur,...</td>\n",
       "      <td>0.0001</td>\n",
       "      <td>-0.0001</td>\n",
       "    </tr>\n",
       "  </tbody>\n",
       "</table>\n",
       "</div>"
      ],
      "text/plain": [
       "                          name         categories      lat      lng  \\\n",
       "0                      Brubeck             Bakery  22.7976  86.1842   \n",
       "1              The Alcor Hotel              Hotel  22.7939  86.1764   \n",
       "2              Cafe Coffee Day               Café  22.7976  86.1841   \n",
       "3               Domino's Pizza        Pizza Place  22.7910  86.1810   \n",
       "4                 Hotel sonnet              Hotel  22.7985  86.1794   \n",
       "5                    Dosa king  Indian Restaurant  22.7983  86.1793   \n",
       "6                     Bistupur             Market  22.7952  86.1840   \n",
       "7  The Sonnet Hotel Jamshedpur              Hotel  22.7987  86.1796   \n",
       "\n",
       "                venue  latitude  longitude  price_for_two  price_range rating  \\\n",
       "0      Brubeck Bakery   22.7978    86.1843            450            2    4.5   \n",
       "1              Jampot   22.7942    86.1761           1600            4    3.7   \n",
       "2     Cafe Coffee Day   22.7976    86.1843            650            2    3.3   \n",
       "3      Domino's Pizza   22.7914    86.1806            400            2    4.4   \n",
       "4  The Chocolate Room   22.7985    86.1797            600            2    4.4   \n",
       "5           Dosa King   22.7982    86.1797            500            2    3.9   \n",
       "6          Spice Zone   22.7951    86.1839           1000            3    3.9   \n",
       "7         Sugar Works   22.7988    86.1795            500            2    3.9   \n",
       "\n",
       "                                             address  lat_diff  lng_diff  \n",
       "0    Dcosta Mansion, Main Road, Bistupur, Jamshedpur    0.0002    0.0001  \n",
       "1                  Hotel Ramada, Holding 3, Bistupur    0.0003   -0.0003  \n",
       "2  D'costa Mansion, 669 Main Road, Bistupur, Jams...    0.0000    0.0002  \n",
       "3  Roshan Tower, Beside Sachdev Cycle Mart, Bistu...    0.0004   -0.0004  \n",
       "4  Contractors Area, Near The Sonnet Hotel, Bistu...    0.0000    0.0003  \n",
       "5  Contractors Area, Near The Sonnet Hotel, Bistu...   -0.0001    0.0004  \n",
       "6                  Natraj Mansion Main Road Bistupur   -0.0001   -0.0001  \n",
       "7  Inner Circle Road, Contractors Area, Bistupur,...    0.0001   -0.0001  "
      ]
     },
     "execution_count": 29,
     "metadata": {},
     "output_type": "execute_result"
    }
   ],
   "source": [
    "selected_venues = dataset[(abs(dataset['lat_diff']) <= 0.0004) & (abs(dataset['lng_diff']) <= 0.0004)].reset_index(drop = True)\n",
    "selected_venues"
   ]
  },
  {
   "cell_type": "markdown",
   "metadata": {},
   "source": [
    "I'll now select the venue name from Zomato API. I'll also get the average price per person by dividing the column price_for_two by 2 and removing this column from the dataset along with other unnecessary columns."
   ]
  },
  {
   "cell_type": "code",
   "execution_count": 30,
   "metadata": {},
   "outputs": [],
   "source": [
    "selected_venues['average_price'] = selected_venues['price_for_two']/2\n",
    "selected_venues = selected_venues.drop(columns = ['name', 'lat', 'lng', 'lat_diff', 'lng_diff', 'price_for_two'])"
   ]
  },
  {
   "cell_type": "code",
   "execution_count": 31,
   "metadata": {},
   "outputs": [
    {
     "data": {
      "text/html": [
       "<div>\n",
       "<style scoped>\n",
       "    .dataframe tbody tr th:only-of-type {\n",
       "        vertical-align: middle;\n",
       "    }\n",
       "\n",
       "    .dataframe tbody tr th {\n",
       "        vertical-align: top;\n",
       "    }\n",
       "\n",
       "    .dataframe thead th {\n",
       "        text-align: right;\n",
       "    }\n",
       "</style>\n",
       "<table border=\"1\" class=\"dataframe\">\n",
       "  <thead>\n",
       "    <tr style=\"text-align: right;\">\n",
       "      <th></th>\n",
       "      <th>categories</th>\n",
       "      <th>venue</th>\n",
       "      <th>latitude</th>\n",
       "      <th>longitude</th>\n",
       "      <th>price_range</th>\n",
       "      <th>rating</th>\n",
       "      <th>address</th>\n",
       "      <th>average_price</th>\n",
       "    </tr>\n",
       "  </thead>\n",
       "  <tbody>\n",
       "    <tr>\n",
       "      <th>0</th>\n",
       "      <td>Bakery</td>\n",
       "      <td>Brubeck Bakery</td>\n",
       "      <td>22.7978</td>\n",
       "      <td>86.1843</td>\n",
       "      <td>2</td>\n",
       "      <td>4.5</td>\n",
       "      <td>Dcosta Mansion, Main Road, Bistupur, Jamshedpur</td>\n",
       "      <td>225.0</td>\n",
       "    </tr>\n",
       "    <tr>\n",
       "      <th>1</th>\n",
       "      <td>Hotel</td>\n",
       "      <td>Jampot</td>\n",
       "      <td>22.7942</td>\n",
       "      <td>86.1761</td>\n",
       "      <td>4</td>\n",
       "      <td>3.7</td>\n",
       "      <td>Hotel Ramada, Holding 3, Bistupur</td>\n",
       "      <td>800.0</td>\n",
       "    </tr>\n",
       "    <tr>\n",
       "      <th>2</th>\n",
       "      <td>Café</td>\n",
       "      <td>Cafe Coffee Day</td>\n",
       "      <td>22.7976</td>\n",
       "      <td>86.1843</td>\n",
       "      <td>2</td>\n",
       "      <td>3.3</td>\n",
       "      <td>D'costa Mansion, 669 Main Road, Bistupur, Jams...</td>\n",
       "      <td>325.0</td>\n",
       "    </tr>\n",
       "    <tr>\n",
       "      <th>3</th>\n",
       "      <td>Pizza Place</td>\n",
       "      <td>Domino's Pizza</td>\n",
       "      <td>22.7914</td>\n",
       "      <td>86.1806</td>\n",
       "      <td>2</td>\n",
       "      <td>4.4</td>\n",
       "      <td>Roshan Tower, Beside Sachdev Cycle Mart, Bistu...</td>\n",
       "      <td>200.0</td>\n",
       "    </tr>\n",
       "    <tr>\n",
       "      <th>4</th>\n",
       "      <td>Hotel</td>\n",
       "      <td>The Chocolate Room</td>\n",
       "      <td>22.7985</td>\n",
       "      <td>86.1797</td>\n",
       "      <td>2</td>\n",
       "      <td>4.4</td>\n",
       "      <td>Contractors Area, Near The Sonnet Hotel, Bistu...</td>\n",
       "      <td>300.0</td>\n",
       "    </tr>\n",
       "    <tr>\n",
       "      <th>5</th>\n",
       "      <td>Indian Restaurant</td>\n",
       "      <td>Dosa King</td>\n",
       "      <td>22.7982</td>\n",
       "      <td>86.1797</td>\n",
       "      <td>2</td>\n",
       "      <td>3.9</td>\n",
       "      <td>Contractors Area, Near The Sonnet Hotel, Bistu...</td>\n",
       "      <td>250.0</td>\n",
       "    </tr>\n",
       "    <tr>\n",
       "      <th>6</th>\n",
       "      <td>Market</td>\n",
       "      <td>Spice Zone</td>\n",
       "      <td>22.7951</td>\n",
       "      <td>86.1839</td>\n",
       "      <td>3</td>\n",
       "      <td>3.9</td>\n",
       "      <td>Natraj Mansion Main Road Bistupur</td>\n",
       "      <td>500.0</td>\n",
       "    </tr>\n",
       "    <tr>\n",
       "      <th>7</th>\n",
       "      <td>Hotel</td>\n",
       "      <td>Sugar Works</td>\n",
       "      <td>22.7988</td>\n",
       "      <td>86.1795</td>\n",
       "      <td>2</td>\n",
       "      <td>3.9</td>\n",
       "      <td>Inner Circle Road, Contractors Area, Bistupur,...</td>\n",
       "      <td>250.0</td>\n",
       "    </tr>\n",
       "  </tbody>\n",
       "</table>\n",
       "</div>"
      ],
      "text/plain": [
       "          categories               venue  latitude  longitude  price_range  \\\n",
       "0             Bakery      Brubeck Bakery   22.7978    86.1843            2   \n",
       "1              Hotel              Jampot   22.7942    86.1761            4   \n",
       "2               Café     Cafe Coffee Day   22.7976    86.1843            2   \n",
       "3        Pizza Place      Domino's Pizza   22.7914    86.1806            2   \n",
       "4              Hotel  The Chocolate Room   22.7985    86.1797            2   \n",
       "5  Indian Restaurant           Dosa King   22.7982    86.1797            2   \n",
       "6             Market          Spice Zone   22.7951    86.1839            3   \n",
       "7              Hotel         Sugar Works   22.7988    86.1795            2   \n",
       "\n",
       "  rating                                            address  average_price  \n",
       "0    4.5    Dcosta Mansion, Main Road, Bistupur, Jamshedpur          225.0  \n",
       "1    3.7                  Hotel Ramada, Holding 3, Bistupur          800.0  \n",
       "2    3.3  D'costa Mansion, 669 Main Road, Bistupur, Jams...          325.0  \n",
       "3    4.4  Roshan Tower, Beside Sachdev Cycle Mart, Bistu...          200.0  \n",
       "4    4.4  Contractors Area, Near The Sonnet Hotel, Bistu...          300.0  \n",
       "5    3.9  Contractors Area, Near The Sonnet Hotel, Bistu...          250.0  \n",
       "6    3.9                  Natraj Mansion Main Road Bistupur          500.0  \n",
       "7    3.9  Inner Circle Road, Contractors Area, Bistupur,...          250.0  "
      ]
     },
     "execution_count": 31,
     "metadata": {},
     "output_type": "execute_result"
    }
   ],
   "source": [
    "#The final dataset of venues\n",
    "selected_venues"
   ]
  },
  {
   "cell_type": "markdown",
   "metadata": {},
   "source": [
    "---"
   ]
  },
  {
   "cell_type": "markdown",
   "metadata": {},
   "source": [
    "### Methodology \n",
    "This project aims at identifying the venues in **Jamshedpur** based on their rating and average costs. This would enable any visitor to identify the venues he/she wants to visit based on their rating and cost preference.<br>\n",
    "\n",
    "As a first step, we retrieved the data from two APIs (Foursquare and Zomato). We extract venue information from the center of Jamshedpur, upto a distance of 10 Km. The latitude and longitude values are then used to fetch venue rating and price from Zomato.<br>\n",
    "\n",
    "Secondly, we then explored the data retrieved from the two APIs on the map and identified the top category types. The data from the two sources is carefully combined based on the name, latitude and longitude values from the two sources. The final dataset would include the rating and price values for each venue.<br>\n",
    "\n",
    "Next, we'll analyse the data that we created based on the ratings and price of each venue. We'll identify places where many venues are located so that any visitor can go to one place and enjoy the option to choose amongst many venue options. We'll also explore areas that are high rated and those that are low rated while also plotting the map of high and low priced venues. Lastly, we'll cluster the venues based on the available information of each venue. This will allow us to clearly identify which venues can be recommended and with what characteristics.<br>"
   ]
  },
  {
   "cell_type": "markdown",
   "metadata": {},
   "source": [
    "### Analysis \n",
    "The complete dataset is now in its final form.\n",
    "\n",
    "We will inspect these venues based on their rating. The rating of a venue are based on user reviews and belongs to a range from 1 to 5. We'll also analyse the venues based on their price per person as well as the price range."
   ]
  },
  {
   "cell_type": "markdown",
   "metadata": {},
   "source": [
    "#### Categories\n",
    "We have various types of venues in the final dataset. We will take a look at the venues and check which are the majority venue categories in the list."
   ]
  },
  {
   "cell_type": "code",
   "execution_count": 32,
   "metadata": {},
   "outputs": [
    {
     "data": {
      "text/plain": [
       "<BarContainer object of 6 artists>"
      ]
     },
     "execution_count": 32,
     "metadata": {},
     "output_type": "execute_result"
    },
    {
     "data": {
      "image/png": "[encoded data removed]",
      "text/plain": [
       "<Figure size 1440x864 with 1 Axes>"
      ]
     },
     "metadata": {
      "needs_background": "light"
     },
     "output_type": "display_data"
    }
   ],
   "source": [
    "venue_distribution = selected_venues['categories'].value_counts()\n",
    "colors = cm.rainbow(np.linspace(0, 1, len(venue_distribution.index)))\n",
    "plt.figure(figsize = (20, 12))\n",
    "plt.xticks(rotation = 90)\n",
    "plt.xlabel(\"Venue category\", fontsize = 16)\n",
    "plt.ylabel(\"Count\", fontsize = 16)\n",
    "plt.title(\"Count of venues of each category\", fontsize = 16)\n",
    "plt.bar(venue_distribution.index, venue_distribution.values, color = colors)"
   ]
  },
  {
   "cell_type": "markdown",
   "metadata": {},
   "source": [
    "We can see that majority are hotels."
   ]
  },
  {
   "cell_type": "markdown",
   "metadata": {},
   "source": [
    "#### Rating\n",
    "Rating of a venue is an important factor on which a visitor decides whether it is worth it to visit the place. To cater to this, we will first see what is the average rating for all the venues in the city. Next, we will plot the venues on the map and color code them.\n",
    "\n",
    "We'll first identify the various rating values and plot them as a bar plot with their counts to see the most common rating."
   ]
  },
  {
   "cell_type": "code",
   "execution_count": 33,
   "metadata": {},
   "outputs": [
    {
     "data": {
      "text/plain": [
       "Text(0.5, 1.0, 'Count of venues with given rating')"
      ]
     },
     "execution_count": 33,
     "metadata": {},
     "output_type": "execute_result"
    },
    {
     "data": {
      "image/png": "[encoded data removed]",
      "text/plain": [
       "<Figure size 1440x864 with 1 Axes>"
      ]
     },
     "metadata": {
      "needs_background": "light"
     },
     "output_type": "display_data"
    }
   ],
   "source": [
    "selected_venues['rating'] = selected_venues['rating'].astype(float)\n",
    "rating = selected_venues['rating'].value_counts().sort_index()\n",
    "plt.figure(figsize = (20, 12))\n",
    "plt.bar(rating.index, rating.values, color = cm.rainbow(np.linspace(0, 1, len(rating.index))))\n",
    "plt.xlabel(\"Rating\", fontsize = 16)\n",
    "plt.ylabel(\"Count\", fontsize = 16)\n",
    "plt.title(\"Count of venues with given rating\", fontsize = 16)"
   ]
  },
  {
   "cell_type": "markdown",
   "metadata": {},
   "source": [
    "From the plot it is clear that majority of the venues is close to 4.0"
   ]
  },
  {
   "cell_type": "markdown",
   "metadata": {},
   "source": [
    "Let's create bins for various ratings and plot them in different colors on the map. The ratings will be divided between 4 bins:\n",
    "\n",
    "* 1 to 2\n",
    "* 2 to 3\n",
    "* 3 to 4\n",
    "* 4 to 5"
   ]
  },
  {
   "cell_type": "code",
   "execution_count": 34,
   "metadata": {},
   "outputs": [],
   "source": [
    "bins = [1.0, 2.0, 3.0, 4.0, 5.0]\n",
    "labels = ['Low', 'Okay', 'Good', 'Very good']\n",
    "selected_venues['rating_bin'] = pd.cut(selected_venues['rating'].astype(float), bins = bins, labels = labels, include_lowest = True)"
   ]
  },
  {
   "cell_type": "markdown",
   "metadata": {},
   "source": [
    "Now, we will plot the venues on the map."
   ]
  },
  {
   "cell_type": "code",
   "execution_count": 35,
   "metadata": {},
   "outputs": [
    {
     "data": {
      "text/html": [
       "<div style=\"width:100%;\"><div style=\"position:relative;width:100%;height:0;padding-bottom:60%;\"><iframe src=\"about:blank\" style=\"position:absolute;width:100%;height:100%;left:0;top:0;border:none !important;\" data-html=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 onload=\"this.contentDocument.open();this.contentDocument.write(atob(this.getAttribute('data-html')));this.contentDocument.close();\" allowfullscreen webkitallowfullscreen mozallowfullscreen></iframe></div></div>"
      ],
      "text/plain": [
       "<folium.folium.Map at 0x221ed5bf470>"
      ]
     },
     "execution_count": 35,
     "metadata": {},
     "output_type": "execute_result"
    }
   ],
   "source": [
    "color_map = {'Low': 'red', 'Okay': 'orange', 'Good': 'green', 'Very good': 'darkgreen'}\n",
    "\n",
    "jsr_map = folium.Map(location = [jsr_lat, jsr_long], zoom_start = 13)\n",
    "\n",
    "for name, address, latitude, longitude, rating_bin in zip(selected_venues['venue'], \n",
    "                                                          selected_venues['address'], \n",
    "                                                          selected_venues['latitude'], \n",
    "                                                          selected_venues['longitude'], \n",
    "                                                          selected_venues['rating_bin']):\n",
    "    label = '{}, {}'.format(name, address)\n",
    "    label = folium.Popup(label, parse_html = True)\n",
    "    folium.Marker(\n",
    "        [latitude, longitude],\n",
    "        icon = folium.Icon(color = color_map[rating_bin]),\n",
    "        popup = label).add_to(jsr_map)  \n",
    "\n",
    "jsr_map.save(\"Venues Ratings.html\")\n",
    "jsr_map"
   ]
  },
  {
   "cell_type": "markdown",
   "metadata": {},
   "source": [
    "#### Price\n",
    "We will now take a look the venues based on the price values. We have two price features for our venues, one is average_price which defines the average cost for one person and the other is price_range which determines the price range as defined by Zomato.\n",
    "\n",
    "We will first explore the average_price using a scatter plot between the price and the count of venues with that average price. We'll size the points based on the price to highlight their price."
   ]
  },
  {
   "cell_type": "code",
   "execution_count": 36,
   "metadata": {},
   "outputs": [
    {
     "data": {
      "text/plain": [
       "Text(0.5, 1.0, 'Count of venues with given average price')"
      ]
     },
     "execution_count": 36,
     "metadata": {},
     "output_type": "execute_result"
    },
    {
     "data": {
      "image/png": "[encoded data removed]",
      "text/plain": [
       "<Figure size 1440x864 with 1 Axes>"
      ]
     },
     "metadata": {
      "needs_background": "light"
     },
     "output_type": "display_data"
    }
   ],
   "source": [
    "average_prices = selected_venues['average_price'].value_counts().sort_index()\n",
    "plt.figure(figsize = (20, 12))\n",
    "plt.scatter(average_prices.index, \n",
    "            average_prices.values, \n",
    "            s = average_prices.index*10, \n",
    "            c = cm.rainbow(np.linspace(0, 1, len(average_prices.index))))\n",
    "plt.xlabel(\"Price per person\", fontsize = 16)\n",
    "plt.ylabel(\"Venue count\", fontsize = 16)\n",
    "plt.title(\"Count of venues with given average price\", fontsize = 16)"
   ]
  },
  {
   "cell_type": "markdown",
   "metadata": {},
   "source": [
    "From the plot above we can see that a large number of venues have an average price between Rs 200 and Rs 400."
   ]
  },
  {
   "cell_type": "markdown",
   "metadata": {},
   "source": [
    "We'll plot it on the map and We'll represent the venues with lower price in green and move towards red as the price increases."
   ]
  },
  {
   "cell_type": "code",
   "execution_count": 37,
   "metadata": {
    "scrolled": false
   },
   "outputs": [
    {
     "data": {
      "text/html": [
       "<div style=\"width:100%;\"><div style=\"position:relative;width:100%;height:0;padding-bottom:60%;\"><iframe src=\"about:blank\" style=\"position:absolute;width:100%;height:100%;left:0;top:0;border:none !important;\" data-html=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 onload=\"this.contentDocument.open();this.contentDocument.write(atob(this.getAttribute('data-html')));this.contentDocument.close();\" allowfullscreen webkitallowfullscreen mozallowfullscreen></iframe></div></div>"
      ],
      "text/plain": [
       "<folium.folium.Map at 0x221ef6984a8>"
      ]
     },
     "execution_count": 37,
     "metadata": {},
     "output_type": "execute_result"
    }
   ],
   "source": [
    "color_map1 = {'1': 'green', '2': 'darkgreen', '3': 'orange', '4': 'red'}\n",
    "\n",
    "jsr_map = folium.Map(location = [jsr_lat, jsr_long], zoom_start = 13)\n",
    "\n",
    "for name, address, latitude, longitude, price_range in zip(selected_venues['venue'], \n",
    "                                                           selected_venues['address'], \n",
    "                                                           selected_venues['latitude'], \n",
    "                                                           selected_venues['longitude'], \n",
    "                                                           selected_venues['price_range'].astype(str)):\n",
    "    label = '{}, {}'.format(name, address)\n",
    "    label = folium.Popup(label, parse_html = True)\n",
    "    folium.Marker(\n",
    "        [latitude, longitude],\n",
    "        icon = folium.Icon(color = color_map1[price_range]),\n",
    "        popup = label).add_to(jsr_map)  \n",
    "\n",
    "jsr_map.save(\"Venues Prices.html\")\n",
    "jsr_map"
   ]
  },
  {
   "cell_type": "markdown",
   "metadata": {},
   "source": [
    "---"
   ]
  },
  {
   "cell_type": "markdown",
   "metadata": {},
   "source": [
    "### Clustering\n",
    "We will now cluster all these venues based on their price range, location and more to identify similar venues and the relationship amongst them. We'll cluster the venues into two separate groups."
   ]
  },
  {
   "cell_type": "code",
   "execution_count": 38,
   "metadata": {},
   "outputs": [
    {
     "data": {
      "text/html": [
       "<div>\n",
       "<style scoped>\n",
       "    .dataframe tbody tr th:only-of-type {\n",
       "        vertical-align: middle;\n",
       "    }\n",
       "\n",
       "    .dataframe tbody tr th {\n",
       "        vertical-align: top;\n",
       "    }\n",
       "\n",
       "    .dataframe thead th {\n",
       "        text-align: right;\n",
       "    }\n",
       "</style>\n",
       "<table border=\"1\" class=\"dataframe\">\n",
       "  <thead>\n",
       "    <tr style=\"text-align: right;\">\n",
       "      <th></th>\n",
       "      <th>cluster_labels</th>\n",
       "      <th>categories</th>\n",
       "      <th>venue</th>\n",
       "      <th>latitude</th>\n",
       "      <th>longitude</th>\n",
       "      <th>price_range</th>\n",
       "      <th>rating</th>\n",
       "      <th>address</th>\n",
       "      <th>average_price</th>\n",
       "      <th>rating_bin</th>\n",
       "    </tr>\n",
       "  </thead>\n",
       "  <tbody>\n",
       "    <tr>\n",
       "      <th>0</th>\n",
       "      <td>0</td>\n",
       "      <td>Bakery</td>\n",
       "      <td>Brubeck Bakery</td>\n",
       "      <td>22.7978</td>\n",
       "      <td>86.1843</td>\n",
       "      <td>2</td>\n",
       "      <td>4.5</td>\n",
       "      <td>Dcosta Mansion, Main Road, Bistupur, Jamshedpur</td>\n",
       "      <td>225.0</td>\n",
       "      <td>Very good</td>\n",
       "    </tr>\n",
       "    <tr>\n",
       "      <th>1</th>\n",
       "      <td>1</td>\n",
       "      <td>Hotel</td>\n",
       "      <td>Jampot</td>\n",
       "      <td>22.7942</td>\n",
       "      <td>86.1761</td>\n",
       "      <td>4</td>\n",
       "      <td>3.7</td>\n",
       "      <td>Hotel Ramada, Holding 3, Bistupur</td>\n",
       "      <td>800.0</td>\n",
       "      <td>Good</td>\n",
       "    </tr>\n",
       "    <tr>\n",
       "      <th>2</th>\n",
       "      <td>0</td>\n",
       "      <td>Café</td>\n",
       "      <td>Cafe Coffee Day</td>\n",
       "      <td>22.7976</td>\n",
       "      <td>86.1843</td>\n",
       "      <td>2</td>\n",
       "      <td>3.3</td>\n",
       "      <td>D'costa Mansion, 669 Main Road, Bistupur, Jams...</td>\n",
       "      <td>325.0</td>\n",
       "      <td>Good</td>\n",
       "    </tr>\n",
       "    <tr>\n",
       "      <th>3</th>\n",
       "      <td>0</td>\n",
       "      <td>Pizza Place</td>\n",
       "      <td>Domino's Pizza</td>\n",
       "      <td>22.7914</td>\n",
       "      <td>86.1806</td>\n",
       "      <td>2</td>\n",
       "      <td>4.4</td>\n",
       "      <td>Roshan Tower, Beside Sachdev Cycle Mart, Bistu...</td>\n",
       "      <td>200.0</td>\n",
       "      <td>Very good</td>\n",
       "    </tr>\n",
       "    <tr>\n",
       "      <th>4</th>\n",
       "      <td>0</td>\n",
       "      <td>Hotel</td>\n",
       "      <td>The Chocolate Room</td>\n",
       "      <td>22.7985</td>\n",
       "      <td>86.1797</td>\n",
       "      <td>2</td>\n",
       "      <td>4.4</td>\n",
       "      <td>Contractors Area, Near The Sonnet Hotel, Bistu...</td>\n",
       "      <td>300.0</td>\n",
       "      <td>Very good</td>\n",
       "    </tr>\n",
       "    <tr>\n",
       "      <th>5</th>\n",
       "      <td>0</td>\n",
       "      <td>Indian Restaurant</td>\n",
       "      <td>Dosa King</td>\n",
       "      <td>22.7982</td>\n",
       "      <td>86.1797</td>\n",
       "      <td>2</td>\n",
       "      <td>3.9</td>\n",
       "      <td>Contractors Area, Near The Sonnet Hotel, Bistu...</td>\n",
       "      <td>250.0</td>\n",
       "      <td>Good</td>\n",
       "    </tr>\n",
       "    <tr>\n",
       "      <th>6</th>\n",
       "      <td>1</td>\n",
       "      <td>Market</td>\n",
       "      <td>Spice Zone</td>\n",
       "      <td>22.7951</td>\n",
       "      <td>86.1839</td>\n",
       "      <td>3</td>\n",
       "      <td>3.9</td>\n",
       "      <td>Natraj Mansion Main Road Bistupur</td>\n",
       "      <td>500.0</td>\n",
       "      <td>Good</td>\n",
       "    </tr>\n",
       "    <tr>\n",
       "      <th>7</th>\n",
       "      <td>0</td>\n",
       "      <td>Hotel</td>\n",
       "      <td>Sugar Works</td>\n",
       "      <td>22.7988</td>\n",
       "      <td>86.1795</td>\n",
       "      <td>2</td>\n",
       "      <td>3.9</td>\n",
       "      <td>Inner Circle Road, Contractors Area, Bistupur,...</td>\n",
       "      <td>250.0</td>\n",
       "      <td>Good</td>\n",
       "    </tr>\n",
       "  </tbody>\n",
       "</table>\n",
       "</div>"
      ],
      "text/plain": [
       "   cluster_labels         categories               venue  latitude  longitude  \\\n",
       "0               0             Bakery      Brubeck Bakery   22.7978    86.1843   \n",
       "1               1              Hotel              Jampot   22.7942    86.1761   \n",
       "2               0               Café     Cafe Coffee Day   22.7976    86.1843   \n",
       "3               0        Pizza Place      Domino's Pizza   22.7914    86.1806   \n",
       "4               0              Hotel  The Chocolate Room   22.7985    86.1797   \n",
       "5               0  Indian Restaurant           Dosa King   22.7982    86.1797   \n",
       "6               1             Market          Spice Zone   22.7951    86.1839   \n",
       "7               0              Hotel         Sugar Works   22.7988    86.1795   \n",
       "\n",
       "   price_range  rating                                            address  \\\n",
       "0            2     4.5    Dcosta Mansion, Main Road, Bistupur, Jamshedpur   \n",
       "1            4     3.7                  Hotel Ramada, Holding 3, Bistupur   \n",
       "2            2     3.3  D'costa Mansion, 669 Main Road, Bistupur, Jams...   \n",
       "3            2     4.4  Roshan Tower, Beside Sachdev Cycle Mart, Bistu...   \n",
       "4            2     4.4  Contractors Area, Near The Sonnet Hotel, Bistu...   \n",
       "5            2     3.9  Contractors Area, Near The Sonnet Hotel, Bistu...   \n",
       "6            3     3.9                  Natraj Mansion Main Road Bistupur   \n",
       "7            2     3.9  Inner Circle Road, Contractors Area, Bistupur,...   \n",
       "\n",
       "   average_price rating_bin  \n",
       "0          225.0  Very good  \n",
       "1          800.0       Good  \n",
       "2          325.0       Good  \n",
       "3          200.0  Very good  \n",
       "4          300.0  Very good  \n",
       "5          250.0       Good  \n",
       "6          500.0       Good  \n",
       "7          250.0       Good  "
      ]
     },
     "execution_count": 38,
     "metadata": {},
     "output_type": "execute_result"
    }
   ],
   "source": [
    "NO_OF_CLUSTERS = 2\n",
    "\n",
    "clustering = selected_venues.drop(['venue', 'address', 'rating_bin', 'categories'], 1)\n",
    "kMeans = KMeans(n_clusters = NO_OF_CLUSTERS, random_state = 0).fit(clustering)\n",
    "selected_venues.insert(0, 'cluster_labels', kMeans.labels_)\n",
    "selected_venues"
   ]
  },
  {
   "cell_type": "code",
   "execution_count": 39,
   "metadata": {},
   "outputs": [
    {
     "data": {
      "text/html": [
       "<div style=\"width:100%;\"><div style=\"position:relative;width:100%;height:0;padding-bottom:60%;\"><iframe src=\"about:blank\" style=\"position:absolute;width:100%;height:100%;left:0;top:0;border:none !important;\" data-html=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 onload=\"this.contentDocument.open();this.contentDocument.write(atob(this.getAttribute('data-html')));this.contentDocument.close();\" allowfullscreen webkitallowfullscreen mozallowfullscreen></iframe></div></div>"
      ],
      "text/plain": [
       "<folium.folium.Map at 0x221efa4b828>"
      ]
     },
     "execution_count": 39,
     "metadata": {},
     "output_type": "execute_result"
    }
   ],
   "source": [
    "jsr_map = folium.Map(location = [jsr_lat, jsr_long], zoom_start = 14)\n",
    "color_map = { 0: 'green', 1: 'red'}\n",
    "\n",
    "# add venues to the map\n",
    "markers_colors = []\n",
    "for venue, address, cluster, latitude, longitude in zip(selected_venues['venue'], \n",
    "                                                        selected_venues['address'], \n",
    "                                                        selected_venues['cluster_labels'], \n",
    "                                                        selected_venues['latitude'], \n",
    "                                                        selected_venues['longitude']):\n",
    "    label = folium.Popup(str(venue) + ', ' + str(address), parse_html = True)\n",
    "    folium.CircleMarker(\n",
    "        [latitude, longitude],\n",
    "        radius = 5,\n",
    "        popup = label,\n",
    "        color = color_map[cluster],\n",
    "        fill = True,\n",
    "        fill_color = color_map[cluster],\n",
    "        fill_opacity = 0.7).add_to(jsr_map)\n",
    "\n",
    "# add cluster centers to the map\n",
    "for index, cluster in enumerate(kMeans.cluster_centers_):\n",
    "    latitude = cluster[0]\n",
    "    longitude = cluster[1]\n",
    "    label = folium.Popup(\"Cluster: \" + str(index), parse_html = True)\n",
    "    folium.CircleMarker(\n",
    "        [latitude, longitude],\n",
    "        radius = 10,\n",
    "        popup = label,\n",
    "        color = color_map[index],\n",
    "        fill = True,\n",
    "        fill_color = color_map[index],\n",
    "        fill_opacity = 0.7).add_to(jsr_map)\n",
    "\n",
    "jsr_map.save(\"Venues Clusters.html\")\n",
    "jsr_map"
   ]
  },
  {
   "cell_type": "markdown",
   "metadata": {},
   "source": [
    "From the map we can see two Clusters."
   ]
  },
  {
   "cell_type": "markdown",
   "metadata": {},
   "source": [
    "#### Let's look at the venues of the two clusters"
   ]
  },
  {
   "cell_type": "code",
   "execution_count": 40,
   "metadata": {},
   "outputs": [
    {
     "name": "stdout",
     "output_type": "stream",
     "text": [
      "Cluster 0\n"
     ]
    },
    {
     "data": {
      "text/html": [
       "<div>\n",
       "<style scoped>\n",
       "    .dataframe tbody tr th:only-of-type {\n",
       "        vertical-align: middle;\n",
       "    }\n",
       "\n",
       "    .dataframe tbody tr th {\n",
       "        vertical-align: top;\n",
       "    }\n",
       "\n",
       "    .dataframe thead th {\n",
       "        text-align: right;\n",
       "    }\n",
       "</style>\n",
       "<table border=\"1\" class=\"dataframe\">\n",
       "  <thead>\n",
       "    <tr style=\"text-align: right;\">\n",
       "      <th></th>\n",
       "      <th>cluster_labels</th>\n",
       "      <th>categories</th>\n",
       "      <th>venue</th>\n",
       "      <th>latitude</th>\n",
       "      <th>longitude</th>\n",
       "      <th>price_range</th>\n",
       "      <th>rating</th>\n",
       "      <th>address</th>\n",
       "      <th>average_price</th>\n",
       "      <th>rating_bin</th>\n",
       "    </tr>\n",
       "  </thead>\n",
       "  <tbody>\n",
       "    <tr>\n",
       "      <th>0</th>\n",
       "      <td>0</td>\n",
       "      <td>Bakery</td>\n",
       "      <td>Brubeck Bakery</td>\n",
       "      <td>22.7978</td>\n",
       "      <td>86.1843</td>\n",
       "      <td>2</td>\n",
       "      <td>4.5</td>\n",
       "      <td>Dcosta Mansion, Main Road, Bistupur, Jamshedpur</td>\n",
       "      <td>225.0</td>\n",
       "      <td>Very good</td>\n",
       "    </tr>\n",
       "    <tr>\n",
       "      <th>1</th>\n",
       "      <td>0</td>\n",
       "      <td>Café</td>\n",
       "      <td>Cafe Coffee Day</td>\n",
       "      <td>22.7976</td>\n",
       "      <td>86.1843</td>\n",
       "      <td>2</td>\n",
       "      <td>3.3</td>\n",
       "      <td>D'costa Mansion, 669 Main Road, Bistupur, Jams...</td>\n",
       "      <td>325.0</td>\n",
       "      <td>Good</td>\n",
       "    </tr>\n",
       "    <tr>\n",
       "      <th>2</th>\n",
       "      <td>0</td>\n",
       "      <td>Pizza Place</td>\n",
       "      <td>Domino's Pizza</td>\n",
       "      <td>22.7914</td>\n",
       "      <td>86.1806</td>\n",
       "      <td>2</td>\n",
       "      <td>4.4</td>\n",
       "      <td>Roshan Tower, Beside Sachdev Cycle Mart, Bistu...</td>\n",
       "      <td>200.0</td>\n",
       "      <td>Very good</td>\n",
       "    </tr>\n",
       "    <tr>\n",
       "      <th>3</th>\n",
       "      <td>0</td>\n",
       "      <td>Hotel</td>\n",
       "      <td>The Chocolate Room</td>\n",
       "      <td>22.7985</td>\n",
       "      <td>86.1797</td>\n",
       "      <td>2</td>\n",
       "      <td>4.4</td>\n",
       "      <td>Contractors Area, Near The Sonnet Hotel, Bistu...</td>\n",
       "      <td>300.0</td>\n",
       "      <td>Very good</td>\n",
       "    </tr>\n",
       "    <tr>\n",
       "      <th>4</th>\n",
       "      <td>0</td>\n",
       "      <td>Indian Restaurant</td>\n",
       "      <td>Dosa King</td>\n",
       "      <td>22.7982</td>\n",
       "      <td>86.1797</td>\n",
       "      <td>2</td>\n",
       "      <td>3.9</td>\n",
       "      <td>Contractors Area, Near The Sonnet Hotel, Bistu...</td>\n",
       "      <td>250.0</td>\n",
       "      <td>Good</td>\n",
       "    </tr>\n",
       "    <tr>\n",
       "      <th>5</th>\n",
       "      <td>0</td>\n",
       "      <td>Hotel</td>\n",
       "      <td>Sugar Works</td>\n",
       "      <td>22.7988</td>\n",
       "      <td>86.1795</td>\n",
       "      <td>2</td>\n",
       "      <td>3.9</td>\n",
       "      <td>Inner Circle Road, Contractors Area, Bistupur,...</td>\n",
       "      <td>250.0</td>\n",
       "      <td>Good</td>\n",
       "    </tr>\n",
       "  </tbody>\n",
       "</table>\n",
       "</div>"
      ],
      "text/plain": [
       "   cluster_labels         categories               venue  latitude  longitude  \\\n",
       "0               0             Bakery      Brubeck Bakery   22.7978    86.1843   \n",
       "1               0               Café     Cafe Coffee Day   22.7976    86.1843   \n",
       "2               0        Pizza Place      Domino's Pizza   22.7914    86.1806   \n",
       "3               0              Hotel  The Chocolate Room   22.7985    86.1797   \n",
       "4               0  Indian Restaurant           Dosa King   22.7982    86.1797   \n",
       "5               0              Hotel         Sugar Works   22.7988    86.1795   \n",
       "\n",
       "   price_range  rating                                            address  \\\n",
       "0            2     4.5    Dcosta Mansion, Main Road, Bistupur, Jamshedpur   \n",
       "1            2     3.3  D'costa Mansion, 669 Main Road, Bistupur, Jams...   \n",
       "2            2     4.4  Roshan Tower, Beside Sachdev Cycle Mart, Bistu...   \n",
       "3            2     4.4  Contractors Area, Near The Sonnet Hotel, Bistu...   \n",
       "4            2     3.9  Contractors Area, Near The Sonnet Hotel, Bistu...   \n",
       "5            2     3.9  Inner Circle Road, Contractors Area, Bistupur,...   \n",
       "\n",
       "   average_price rating_bin  \n",
       "0          225.0  Very good  \n",
       "1          325.0       Good  \n",
       "2          200.0  Very good  \n",
       "3          300.0  Very good  \n",
       "4          250.0       Good  \n",
       "5          250.0       Good  "
      ]
     },
     "execution_count": 40,
     "metadata": {},
     "output_type": "execute_result"
    }
   ],
   "source": [
    "#Cluster 0\n",
    "result = selected_venues[selected_venues['cluster_labels'] == 0]\n",
    "print(\"Cluster 0\")\n",
    "result.reset_index(drop = True)"
   ]
  },
  {
   "cell_type": "code",
   "execution_count": 41,
   "metadata": {},
   "outputs": [
    {
     "name": "stdout",
     "output_type": "stream",
     "text": [
      "These venues for cluster 0 have mean price range of 2.00 and rating spread around 4.07\n"
     ]
    }
   ],
   "source": [
    "print(\"These venues for cluster 0 have mean price range of {:.02f} and rating spread around {:.02f}\".\n",
    "      format(result['price_range'].mean(), result['rating'].astype(float).mean()))"
   ]
  },
  {
   "cell_type": "code",
   "execution_count": 42,
   "metadata": {},
   "outputs": [
    {
     "name": "stdout",
     "output_type": "stream",
     "text": [
      "Cluster 1\n"
     ]
    },
    {
     "data": {
      "text/html": [
       "<div>\n",
       "<style scoped>\n",
       "    .dataframe tbody tr th:only-of-type {\n",
       "        vertical-align: middle;\n",
       "    }\n",
       "\n",
       "    .dataframe tbody tr th {\n",
       "        vertical-align: top;\n",
       "    }\n",
       "\n",
       "    .dataframe thead th {\n",
       "        text-align: right;\n",
       "    }\n",
       "</style>\n",
       "<table border=\"1\" class=\"dataframe\">\n",
       "  <thead>\n",
       "    <tr style=\"text-align: right;\">\n",
       "      <th></th>\n",
       "      <th>cluster_labels</th>\n",
       "      <th>categories</th>\n",
       "      <th>venue</th>\n",
       "      <th>latitude</th>\n",
       "      <th>longitude</th>\n",
       "      <th>price_range</th>\n",
       "      <th>rating</th>\n",
       "      <th>address</th>\n",
       "      <th>average_price</th>\n",
       "      <th>rating_bin</th>\n",
       "    </tr>\n",
       "  </thead>\n",
       "  <tbody>\n",
       "    <tr>\n",
       "      <th>0</th>\n",
       "      <td>1</td>\n",
       "      <td>Hotel</td>\n",
       "      <td>Jampot</td>\n",
       "      <td>22.7942</td>\n",
       "      <td>86.1761</td>\n",
       "      <td>4</td>\n",
       "      <td>3.7</td>\n",
       "      <td>Hotel Ramada, Holding 3, Bistupur</td>\n",
       "      <td>800.0</td>\n",
       "      <td>Good</td>\n",
       "    </tr>\n",
       "    <tr>\n",
       "      <th>1</th>\n",
       "      <td>1</td>\n",
       "      <td>Market</td>\n",
       "      <td>Spice Zone</td>\n",
       "      <td>22.7951</td>\n",
       "      <td>86.1839</td>\n",
       "      <td>3</td>\n",
       "      <td>3.9</td>\n",
       "      <td>Natraj Mansion Main Road Bistupur</td>\n",
       "      <td>500.0</td>\n",
       "      <td>Good</td>\n",
       "    </tr>\n",
       "  </tbody>\n",
       "</table>\n",
       "</div>"
      ],
      "text/plain": [
       "   cluster_labels categories       venue  latitude  longitude  price_range  \\\n",
       "0               1      Hotel      Jampot   22.7942    86.1761            4   \n",
       "1               1     Market  Spice Zone   22.7951    86.1839            3   \n",
       "\n",
       "   rating                            address  average_price rating_bin  \n",
       "0     3.7  Hotel Ramada, Holding 3, Bistupur          800.0       Good  \n",
       "1     3.9  Natraj Mansion Main Road Bistupur          500.0       Good  "
      ]
     },
     "execution_count": 42,
     "metadata": {},
     "output_type": "execute_result"
    }
   ],
   "source": [
    "#Cluster 1\n",
    "result = selected_venues[selected_venues['cluster_labels'] == 1]\n",
    "print(\"Cluster 1\")\n",
    "result.reset_index(drop = True)"
   ]
  },
  {
   "cell_type": "code",
   "execution_count": 43,
   "metadata": {},
   "outputs": [
    {
     "name": "stdout",
     "output_type": "stream",
     "text": [
      "These venues for cluster 1 have mean price range of 3.50 and rating spread around 3.80\n"
     ]
    }
   ],
   "source": [
    "print(\"These venues for cluster 1 have mean price range of {:.02f} and rating spread around {:.02f}\".\n",
    "      format(result['price_range'].mean(), result['rating'].astype(float).mean()))"
   ]
  },
  {
   "cell_type": "markdown",
   "metadata": {},
   "source": [
    "---"
   ]
  },
  {
   "cell_type": "markdown",
   "metadata": {},
   "source": [
    "### Results and Discussion \n",
    "Based on our analysis above, we can draw a number of conclusions that will be useful to aid any visitor visiting the Steel city of India, Jamshedpur.<br>\n",
    "\n",
    "After collecting data from the Foursquare and Zomato APIs, we got a list of 15 different venues. However, not all venues from the two APIs were identical. Hence, we had to inspect their latitude and longitude values as well as names to combine them and remove all the outliers. This resulted in a total venue count of 7 <br>\n",
    "\n",
    "We identified that from the total set of venues, majority of them were Cafes and Indian Restaurants. A visitor who loves Cafes/Indian Restaurants would surely benefit from coming to Jamshedpur. <br>\n",
    "\n",
    "While the complete range of ratings range from 1 to 5, the majority venues have ratings close to 4. This means that most restaurants provide good quality food which is liked by the people of the city, thus indicating the high rating.<br>\n",
    "\n",
    "When we take a look at the price values of each venue, we explore that many venues have prices which are in the range of Rs 200 to Rs 400 for one person.<br>\n",
    "\n",
    "Finally, through clusters we identified that there are many venues which are relatively lower priced but have an average rating of **4.02**. On the other hand, there are few venues which are high priced and have average rating of **3.80**.<br>\n",
    "\n",
    "A company can use this information to build up an online website/mobile application, to provide users with up to date information about various venues in the city based on the search criteria (name, rating and price)."
   ]
  },
  {
   "cell_type": "markdown",
   "metadata": {},
   "source": [
    "### Conclusion\n",
    "The purpose of this project was to explore the places that a person visiting Jamshedpur could visit. The venues have been identified using Foursquare and Zomato API and have been plotted on the map. The map reveals that most of the venues is around Bistupur. Based on the visitor's venue rating and price requirements, he/she can choose amongst the various venues."
   ]
  }
 ],
 "metadata": {
  "kernelspec": {
   "display_name": "Python 3",
   "language": "python",
   "name": "python3"
  },
  "language_info": {
   "codemirror_mode": {
    "name": "ipython",
    "version": 3
   },
   "file_extension": ".py",
   "mimetype": "text/x-python",
   "name": "python",
   "nbconvert_exporter": "python",
   "pygments_lexer": "ipython3",
   "version": "3.7.1"
  }
 },
 "nbformat": 4,
 "nbformat_minor": 2
}
